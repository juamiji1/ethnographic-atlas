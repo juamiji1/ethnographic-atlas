{
 "cells": [
  {
   "cell_type": "markdown",
   "id": "b2d815cf",
   "metadata": {},
   "source": [
    "# Calculating Night Ligt Intensity"
   ]
  },
  {
   "cell_type": "code",
   "execution_count": null,
   "id": "f4ead7a8",
   "metadata": {},
   "outputs": [
    {
     "data": {
      "text/html": [
       "\n",
       "            <style>\n",
       "                .geemap-dark {\n",
       "                    --jp-widgets-color: white;\n",
       "                    --jp-widgets-label-color: white;\n",
       "                    --jp-ui-font-color1: white;\n",
       "                    --jp-layout-color2: #454545;\n",
       "                    background-color: #383838;\n",
       "                }\n",
       "\n",
       "                .geemap-dark .jupyter-button {\n",
       "                    --jp-layout-color3: #383838;\n",
       "                }\n",
       "\n",
       "                .geemap-colab {\n",
       "                    background-color: var(--colab-primary-surface-color, white);\n",
       "                }\n",
       "\n",
       "                .geemap-colab .jupyter-button {\n",
       "                    --jp-layout-color3: var(--colab-primary-surface-color, white);\n",
       "                }\n",
       "            </style>\n",
       "            "
      ],
      "text/plain": [
       "<IPython.core.display.HTML object>"
      ]
     },
     "metadata": {},
     "output_type": "display_data"
    },
    {
     "data": {
      "text/html": [
       "<p>To authorize access needed by Earth Engine, open the following\n",
       "        URL in a web browser and follow the instructions:</p>\n",
       "        <p><a href=https://code.earthengine.google.com/client-auth?scopes=https%3A//www.googleapis.com/auth/earthengine%20https%3A//www.googleapis.com/auth/cloud-platform%20https%3A//www.googleapis.com/auth/devstorage.full_control&request_id=f61ieGQ2kj2Ek6lYsf0WIqrscED0gcobj23XKHNexFs&tc=NVL-zxmxKTZBXps6cSfD_5pj7JeNpabslTYZrhVw0C8&cc=3dWLoR53hLKKo-ApkAYM6qIZu3Lqglaq8jzyQxEz-PE>https://code.earthengine.google.com/client-auth?scopes=https%3A//www.googleapis.com/auth/earthengine%20https%3A//www.googleapis.com/auth/cloud-platform%20https%3A//www.googleapis.com/auth/devstorage.full_control&request_id=f61ieGQ2kj2Ek6lYsf0WIqrscED0gcobj23XKHNexFs&tc=NVL-zxmxKTZBXps6cSfD_5pj7JeNpabslTYZrhVw0C8&cc=3dWLoR53hLKKo-ApkAYM6qIZu3Lqglaq8jzyQxEz-PE</a></p>\n",
       "        <p>The authorization workflow will generate a code, which you should paste in the box below.</p>\n",
       "        "
      ],
      "text/plain": [
       "<IPython.core.display.HTML object>"
      ]
     },
     "metadata": {},
     "output_type": "display_data"
    },
    {
     "name": "stdout",
     "output_type": "stream",
     "text": [
      "\n",
      "Successfully saved authorization token.\n"
     ]
    }
   ],
   "source": [
    "import os\n",
    "import ee\n",
    "import geemap \n",
    "import pandas as pd\n",
    "\n",
    "#ee.Authenticate()\n",
    "ee.Initialize()"
   ]
  },
  {
   "cell_type": "code",
   "execution_count": null,
   "id": "43be111a",
   "metadata": {},
   "outputs": [
    {
     "data": {
      "text/html": [
       "\n",
       "            <style>\n",
       "                .geemap-dark {\n",
       "                    --jp-widgets-color: white;\n",
       "                    --jp-widgets-label-color: white;\n",
       "                    --jp-ui-font-color1: white;\n",
       "                    --jp-layout-color2: #454545;\n",
       "                    background-color: #383838;\n",
       "                }\n",
       "\n",
       "                .geemap-dark .jupyter-button {\n",
       "                    --jp-layout-color3: #383838;\n",
       "                }\n",
       "\n",
       "                .geemap-colab {\n",
       "                    background-color: var(--colab-primary-surface-color, white);\n",
       "                }\n",
       "\n",
       "                .geemap-colab .jupyter-button {\n",
       "                    --jp-layout-color3: var(--colab-primary-surface-color, white);\n",
       "                }\n",
       "            </style>\n",
       "            "
      ],
      "text/plain": [
       "<IPython.core.display.HTML object>"
      ]
     },
     "metadata": {},
     "output_type": "display_data"
    },
    {
     "data": {
      "application/vnd.jupyter.widget-view+json": {
       "model_id": "2744b539d6a24bb89a9634385a83782b",
       "version_major": 2,
       "version_minor": 0
      },
      "text/plain": [
       "Map(center=[-5, -65], controls=(WidgetControl(options=['position', 'transparent_bg'], widget=SearchDataGUI(chi…"
      ]
     },
     "execution_count": 8,
     "metadata": {},
     "output_type": "execute_result"
    }
   ],
   "source": [
    "# Define your region of interest (Peru/Brazil Amazon)\n",
    "amazon_roi = ee.Geometry.BBox(-75, -15, -50, 5)  # Adjust coordinates as needed\n",
    "\n",
    "# Load the Harmonized Nighttime Lights (DMSP-OLS) for 2000\n",
    "dmsp = (ee.ImageCollection(\"projects/sat-io/open-datasets/Harmonized_NTL/dmsp\")\n",
    "          .filterDate('2000-01-01', '2000-12-31')\n",
    "          .mean())\n",
    "\n",
    "# Create a map\n",
    "Map = geemap.Map(center=[-5, -65], zoom=5)\n",
    "\n",
    "# Add the Nighttime Lights layer\n",
    "vis_params = {\n",
    "    'min': 0,\n",
    "    'max': 63,\n",
    "    'palette': ['000000', 'ffffff']\n",
    "}\n",
    "\n",
    "Map.addLayer(dmsp, vis_params, 'DMSP-OLS NTL 2000')\n",
    "Map\n"
   ]
  },
  {
   "cell_type": "code",
   "execution_count": 12,
   "id": "209e3d60",
   "metadata": {},
   "outputs": [
    {
     "data": {
      "text/html": [
       "\n",
       "            <style>\n",
       "                .geemap-dark {\n",
       "                    --jp-widgets-color: white;\n",
       "                    --jp-widgets-label-color: white;\n",
       "                    --jp-ui-font-color1: white;\n",
       "                    --jp-layout-color2: #454545;\n",
       "                    background-color: #383838;\n",
       "                }\n",
       "\n",
       "                .geemap-dark .jupyter-button {\n",
       "                    --jp-layout-color3: #383838;\n",
       "                }\n",
       "\n",
       "                .geemap-colab {\n",
       "                    background-color: var(--colab-primary-surface-color, white);\n",
       "                }\n",
       "\n",
       "                .geemap-colab .jupyter-button {\n",
       "                    --jp-layout-color3: var(--colab-primary-surface-color, white);\n",
       "                }\n",
       "            </style>\n",
       "            "
      ],
      "text/plain": [
       "<IPython.core.display.HTML object>"
      ]
     },
     "metadata": {},
     "output_type": "display_data"
    }
   ],
   "source": [
    "# Export to Google Drive\n",
    "task = ee.batch.Export.image.toDrive(\n",
    "    image=dmsp,\n",
    "    description='nightlight2000_1km',\n",
    "    folder='GEE_exports',\n",
    "    fileNamePrefix='nightlight2000_1km',\n",
    "    region=world_bbox,\n",
    "    scale=1000,\n",
    "    maxPixels=1e13\n",
    ")\n",
    "\n",
    "task.start()"
   ]
  },
  {
   "cell_type": "code",
   "execution_count": 22,
   "id": "791b19df",
   "metadata": {},
   "outputs": [],
   "source": [
    "import os\n",
    "from pathlib import Path\n",
    "\n",
    "import pandas as pd\n",
    "import numpy as np\n",
    "import geopandas as gpd\n",
    "\n",
    "import matplotlib.pyplot as plt\n",
    "import matplotlib.colors as mcolors\n",
    "from matplotlib.patches import Patch\n",
    "import matplotlib.patches as mpatches\n",
    "from matplotlib.font_manager import FontProperties\n",
    "\n",
    "import mapclassify\n",
    "\n",
    "from rapidfuzz import process, fuzz\n",
    "\n",
    "from shapely.geometry import Point\n",
    "\n",
    "import rasterio\n",
    "from rasterio.plot import show\n",
    "from rasterio.mask import mask\n",
    "from rasterstats import zonal_stats\n",
    "from glob import glob\n",
    "from rasterio.merge import merge\n",
    "from rasterio.enums import Resampling\n",
    "from rasterio.io import MemoryFile\n",
    "from rasterio.warp import calculate_default_transform, reproject, Resampling\n",
    "\n",
    "import tempfile"
   ]
  },
  {
   "cell_type": "code",
   "execution_count": 7,
   "id": "38fde408",
   "metadata": {},
   "outputs": [],
   "source": [
    "# Set base project path\n",
    "base_path = Path(\"C:/Users/juami/Dropbox/RAships/2-Folklore-Nathan-Project/EA-Maps-Nathan-project/Measures_work\")\n",
    "\n",
    "# Set file paths\n",
    "poscol_path = base_path / \"data\" / \"raw\" / \"ethnologue\" / \"ancestral_characteristics_database_language_level\" / \"Ethnologue_16_shapefile\" / \"langa_no_overlap_biggest_clean.shp\"\n",
    "\n",
    "data_path = base_path / \"data\" / \"interim\"\n",
    "maps_path = base_path / \"maps\" / \"raw\"\n",
    "nl_path = base_path / \"maps\" / \"raw\" / \"NL\"\n",
    "\n",
    "export_path = base_path / \"maps\" / \"interim\" / \"ethnologue_parts\""
   ]
  },
  {
   "cell_type": "code",
   "execution_count": 8,
   "id": "43d52d04",
   "metadata": {},
   "outputs": [
    {
     "name": "stdout",
     "output_type": "stream",
     "text": [
      "Number of features: 7087\n"
     ]
    }
   ],
   "source": [
    "# Read the shapefiles and CSV files\n",
    "ethnologue = gpd.read_file(poscol_path)\n",
    "\n",
    "# Keep only relevant columns\n",
    "ethnologue = ethnologue[[\"ID\", \"geometry\"]]\n",
    "\n",
    "print(f\"Number of features: {len(ethnologue)}\") "
   ]
  },
  {
   "cell_type": "code",
   "execution_count": 17,
   "id": "2372909a",
   "metadata": {},
   "outputs": [
    {
     "name": "stdout",
     "output_type": "stream",
     "text": [
      "Found raster files: ['C:\\\\Users\\\\juami\\\\Dropbox\\\\RAships\\\\2-Folklore-Nathan-Project\\\\EA-Maps-Nathan-project\\\\Measures_work\\\\maps\\\\raw\\\\NL\\\\nightlight2000_1km-0000000000-0000000000.tif', 'C:\\\\Users\\\\juami\\\\Dropbox\\\\RAships\\\\2-Folklore-Nathan-Project\\\\EA-Maps-Nathan-project\\\\Measures_work\\\\maps\\\\raw\\\\NL\\\\nightlight2000_1km-0000000000-0000023296.tif']\n"
     ]
    }
   ],
   "source": [
    "# List all the raster files \n",
    "raster_files = glob(str(nl_path / \"*.tif\"))\n",
    "\n",
    "print(\"Found raster files:\", raster_files)\n",
    "\n",
    "# Read in all the rasters\n",
    "src_files_to_mosaic = [rasterio.open(fp) for fp in raster_files]\n",
    "\n",
    "from rasterio.merge import merge\n",
    "\n",
    "# Set a coarser resolution\n",
    "mosaic, out_trans = merge(\n",
    "    src_files_to_mosaic,\n",
    "    res=(0.01, 0.01),  # Approx ~1km resolution (in degrees)\n",
    "    resampling=Resampling.average  # Can also try Resampling.nearest\n",
    ")"
   ]
  },
  {
   "cell_type": "code",
   "execution_count": 18,
   "id": "fdc7a408",
   "metadata": {},
   "outputs": [
    {
     "name": "stdout",
     "output_type": "stream",
     "text": [
      "Raster 0 CRS: EPSG:4326\n",
      "Raster 1 CRS: EPSG:4326\n"
     ]
    }
   ],
   "source": [
    "# Check CRS of each input raster\n",
    "for i, src in enumerate(src_files_to_mosaic):\n",
    "    print(f\"Raster {i} CRS:\", src.crs)\n",
    "\n",
    "ethnologue = ethnologue.to_crs(src_files_to_mosaic[0].crs)"
   ]
  },
  {
   "cell_type": "code",
   "execution_count": 19,
   "id": "3564cd08",
   "metadata": {},
   "outputs": [
    {
     "data": {
      "image/png": "[encoded data removed]",
      "text/plain": [
       "<Figure size 1000x1000 with 1 Axes>"
      ]
     },
     "metadata": {},
     "output_type": "display_data"
    }
   ],
   "source": [
    "# Show the first band of the mosaic directly\n",
    "fig, ax = plt.subplots(figsize=(10, 10))\n",
    "show(mosaic, transform=out_trans, ax=ax, title=\"Merged NL2000 (In-Memory)\")\n",
    "plt.show()"
   ]
  },
  {
   "cell_type": "code",
   "execution_count": 23,
   "id": "8bd6c856",
   "metadata": {},
   "outputs": [
    {
     "name": "stderr",
     "output_type": "stream",
     "text": [
      "c:\\Users\\juami\\anaconda3\\envs\\geo\\lib\\site-packages\\rasterstats\\io.py:335: NodataWarning: Setting nodata to -999; specify nodata explicitly\n",
      "  warnings.warn(\n"
     ]
    },
    {
     "name": "stdout",
     "output_type": "stream",
     "text": [
      "        ID    nl_mean\n",
      "0  RUS-RUS  13.271797\n",
      "1  ENG-USA  17.610254\n",
      "2  POR-BRA  14.371451\n",
      "3  ENG-AUS  13.554563\n",
      "4  CMN-CHN   8.897684\n"
     ]
    }
   ],
   "source": [
    "# Write mosaic to a temporary file on disk\n",
    "with tempfile.NamedTemporaryFile(suffix='.tif', delete=False) as tmpfile:\n",
    "    tmp_path = tmpfile.name\n",
    "\n",
    "with rasterio.open(\n",
    "    tmp_path,\n",
    "    'w',\n",
    "    driver='GTiff',\n",
    "    height=mosaic.shape[1],  # Note: shape order is (bands, rows, cols)\n",
    "    width=mosaic.shape[2],\n",
    "    count=1,\n",
    "    dtype=mosaic.dtype,\n",
    "    crs='EPSG:4326',\n",
    "    transform=out_trans\n",
    ") as dst:\n",
    "    dst.write(mosaic[0], 1)  # If mosaic has shape (1, rows, cols)\n",
    "\n",
    "# Compute zonal stats from that file\n",
    "stats = zonal_stats(\n",
    "    ethnologue,\n",
    "    tmp_path,\n",
    "    stats=['mean'],\n",
    "    geojson_out=True\n",
    ")\n",
    "\n",
    "# Add to GeoDataFrame\n",
    "ethnologue['nl_mean'] = [f['properties']['mean'] for f in stats]\n",
    "\n",
    "print(ethnologue[['ID', 'nl_mean']].head())"
   ]
  },
  {
   "cell_type": "code",
   "execution_count": 24,
   "id": "03b62a44",
   "metadata": {},
   "outputs": [
    {
     "data": {
      "text/html": [
       "<div>\n",
       "<style scoped>\n",
       "    .dataframe tbody tr th:only-of-type {\n",
       "        vertical-align: middle;\n",
       "    }\n",
       "\n",
       "    .dataframe tbody tr th {\n",
       "        vertical-align: top;\n",
       "    }\n",
       "\n",
       "    .dataframe thead th {\n",
       "        text-align: right;\n",
       "    }\n",
       "</style>\n",
       "<table border=\"1\" class=\"dataframe\">\n",
       "  <thead>\n",
       "    <tr style=\"text-align: right;\">\n",
       "      <th></th>\n",
       "      <th>ID</th>\n",
       "      <th>nl_mean</th>\n",
       "    </tr>\n",
       "  </thead>\n",
       "  <tbody>\n",
       "    <tr>\n",
       "      <th>0</th>\n",
       "      <td>RUS-RUS</td>\n",
       "      <td>13.271797</td>\n",
       "    </tr>\n",
       "    <tr>\n",
       "      <th>1</th>\n",
       "      <td>ENG-USA</td>\n",
       "      <td>17.610254</td>\n",
       "    </tr>\n",
       "    <tr>\n",
       "      <th>2</th>\n",
       "      <td>POR-BRA</td>\n",
       "      <td>14.371451</td>\n",
       "    </tr>\n",
       "    <tr>\n",
       "      <th>3</th>\n",
       "      <td>ENG-AUS</td>\n",
       "      <td>13.554563</td>\n",
       "    </tr>\n",
       "    <tr>\n",
       "      <th>4</th>\n",
       "      <td>CMN-CHN</td>\n",
       "      <td>8.897684</td>\n",
       "    </tr>\n",
       "  </tbody>\n",
       "</table>\n",
       "</div>"
      ],
      "text/plain": [
       "        ID    nl_mean\n",
       "0  RUS-RUS  13.271797\n",
       "1  ENG-USA  17.610254\n",
       "2  POR-BRA  14.371451\n",
       "3  ENG-AUS  13.554563\n",
       "4  CMN-CHN   8.897684"
      ]
     },
     "execution_count": 24,
     "metadata": {},
     "output_type": "execute_result"
    }
   ],
   "source": [
    "df_ethnologue = ethnologue[['ID', 'nl_mean']]\n",
    "\n",
    "df_ethnologue.head()"
   ]
  },
  {
   "cell_type": "code",
   "execution_count": 25,
   "id": "1c58c3e0",
   "metadata": {},
   "outputs": [
    {
     "data": {
      "text/plain": [
       "7087"
      ]
     },
     "execution_count": 25,
     "metadata": {},
     "output_type": "execute_result"
    }
   ],
   "source": [
    "len(df_ethnologue)"
   ]
  },
  {
   "cell_type": "code",
   "execution_count": 26,
   "id": "942fab54",
   "metadata": {},
   "outputs": [
    {
     "name": "stdout",
     "output_type": "stream",
     "text": [
      "Exported df_ethnologue.csv\n"
     ]
    }
   ],
   "source": [
    "# Export to CSV\n",
    "df_ethnologue.to_csv(nl_path / \"ethnologue_nl.csv\", index=False)\n",
    "\n",
    "print(f\"Exported df_ethnologue.csv\")"
   ]
  }
 ],
 "metadata": {
  "kernelspec": {
   "display_name": "geo",
   "language": "python",
   "name": "python3"
  },
  "language_info": {
   "codemirror_mode": {
    "name": "ipython",
    "version": 3
   },
   "file_extension": ".py",
   "mimetype": "text/x-python",
   "name": "python",
   "nbconvert_exporter": "python",
   "pygments_lexer": "ipython3",
   "version": "3.9.20"
  }
 },
 "nbformat": 4,
 "nbformat_minor": 5
}
