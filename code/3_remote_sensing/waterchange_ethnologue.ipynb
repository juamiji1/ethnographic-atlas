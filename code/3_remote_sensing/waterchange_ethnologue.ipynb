{
 "cells": [
  {
   "cell_type": "markdown",
   "id": "9697a647",
   "metadata": {},
   "source": [
    "# Calculating Water Change at the Ethnologue Polygon Level"
   ]
  },
  {
   "cell_type": "code",
   "execution_count": 18,
   "id": "f8a561f9",
   "metadata": {},
   "outputs": [
    {
     "data": {
      "text/html": [
       "\n",
       "            <style>\n",
       "                .geemap-dark {\n",
       "                    --jp-widgets-color: white;\n",
       "                    --jp-widgets-label-color: white;\n",
       "                    --jp-ui-font-color1: white;\n",
       "                    --jp-layout-color2: #454545;\n",
       "                    background-color: #383838;\n",
       "                }\n",
       "\n",
       "                .geemap-dark .jupyter-button {\n",
       "                    --jp-layout-color3: #383838;\n",
       "                }\n",
       "\n",
       "                .geemap-colab {\n",
       "                    background-color: var(--colab-primary-surface-color, white);\n",
       "                }\n",
       "\n",
       "                .geemap-colab .jupyter-button {\n",
       "                    --jp-layout-color3: var(--colab-primary-surface-color, white);\n",
       "                }\n",
       "            </style>\n",
       "            "
      ],
      "text/plain": [
       "<IPython.core.display.HTML object>"
      ]
     },
     "metadata": {},
     "output_type": "display_data"
    }
   ],
   "source": [
    "import os\n",
    "import ee\n",
    "import geemap \n",
    "import pandas as pd\n",
    "\n",
    "#ee.Authenticate()\n",
    "ee.Initialize()"
   ]
  },
  {
   "cell_type": "code",
   "execution_count": 19,
   "id": "f44b3d15",
   "metadata": {},
   "outputs": [
    {
     "data": {
      "text/html": [
       "\n",
       "            <style>\n",
       "                .geemap-dark {\n",
       "                    --jp-widgets-color: white;\n",
       "                    --jp-widgets-label-color: white;\n",
       "                    --jp-ui-font-color1: white;\n",
       "                    --jp-layout-color2: #454545;\n",
       "                    background-color: #383838;\n",
       "                }\n",
       "\n",
       "                .geemap-dark .jupyter-button {\n",
       "                    --jp-layout-color3: #383838;\n",
       "                }\n",
       "\n",
       "                .geemap-colab {\n",
       "                    background-color: var(--colab-primary-surface-color, white);\n",
       "                }\n",
       "\n",
       "                .geemap-colab .jupyter-button {\n",
       "                    --jp-layout-color3: var(--colab-primary-surface-color, white);\n",
       "                }\n",
       "            </style>\n",
       "            "
      ],
      "text/plain": [
       "<IPython.core.display.HTML object>"
      ]
     },
     "metadata": {},
     "output_type": "display_data"
    }
   ],
   "source": [
    "# Define region to view (Peru/Brazil Amazon)\n",
    "world_bbox = ee.Geometry.BBox(-180, -85, 180, 85)\n",
    "\n",
    "# Load the water change band\n",
    "permwater = ee.Image(\"JRC/GSW1_4/GlobalSurfaceWater\").select(\"transition\").eq(1)\n",
    "losswater = ee.Image(\"JRC/GSW1_4/GlobalSurfaceWater\").select(\"transition\").eq(3)\n",
    "\n",
    "changewater = ee.Image(\"JRC/GSW1_4/GlobalSurfaceWater\").select(\"change_norm\")"
   ]
  },
  {
   "cell_type": "code",
   "execution_count": 20,
   "id": "55cd64a2",
   "metadata": {},
   "outputs": [
    {
     "data": {
      "text/html": [
       "\n",
       "            <style>\n",
       "                .geemap-dark {\n",
       "                    --jp-widgets-color: white;\n",
       "                    --jp-widgets-label-color: white;\n",
       "                    --jp-ui-font-color1: white;\n",
       "                    --jp-layout-color2: #454545;\n",
       "                    background-color: #383838;\n",
       "                }\n",
       "\n",
       "                .geemap-dark .jupyter-button {\n",
       "                    --jp-layout-color3: #383838;\n",
       "                }\n",
       "\n",
       "                .geemap-colab {\n",
       "                    background-color: var(--colab-primary-surface-color, white);\n",
       "                }\n",
       "\n",
       "                .geemap-colab .jupyter-button {\n",
       "                    --jp-layout-color3: var(--colab-primary-surface-color, white);\n",
       "                }\n",
       "            </style>\n",
       "            "
      ],
      "text/plain": [
       "<IPython.core.display.HTML object>"
      ]
     },
     "metadata": {},
     "output_type": "display_data"
    }
   ],
   "source": [
    "# Export to Google Drive\n",
    "task = ee.batch.Export.image.toDrive(\n",
    "    image=permwater,\n",
    "    description='perm_water_100m_30m',\n",
    "    folder='GEE_exports',\n",
    "    fileNamePrefix='perm_water_100m_30m',\n",
    "    region=world_bbox,\n",
    "    scale=100,\n",
    "    maxPixels=1e13\n",
    ")\n",
    "\n",
    "task.start()"
   ]
  },
  {
   "cell_type": "code",
   "execution_count": 21,
   "id": "5e0bf6e2",
   "metadata": {},
   "outputs": [
    {
     "data": {
      "text/html": [
       "\n",
       "            <style>\n",
       "                .geemap-dark {\n",
       "                    --jp-widgets-color: white;\n",
       "                    --jp-widgets-label-color: white;\n",
       "                    --jp-ui-font-color1: white;\n",
       "                    --jp-layout-color2: #454545;\n",
       "                    background-color: #383838;\n",
       "                }\n",
       "\n",
       "                .geemap-dark .jupyter-button {\n",
       "                    --jp-layout-color3: #383838;\n",
       "                }\n",
       "\n",
       "                .geemap-colab {\n",
       "                    background-color: var(--colab-primary-surface-color, white);\n",
       "                }\n",
       "\n",
       "                .geemap-colab .jupyter-button {\n",
       "                    --jp-layout-color3: var(--colab-primary-surface-color, white);\n",
       "                }\n",
       "            </style>\n",
       "            "
      ],
      "text/plain": [
       "<IPython.core.display.HTML object>"
      ]
     },
     "metadata": {},
     "output_type": "display_data"
    }
   ],
   "source": [
    "# Export to Google Drive\n",
    "task = ee.batch.Export.image.toDrive(\n",
    "    image=losswater,\n",
    "    description='loss_water_100m_30m',\n",
    "    folder='GEE_exports',\n",
    "    fileNamePrefix='loss_water_100m_30m',\n",
    "    region=world_bbox,\n",
    "    scale=100,\n",
    "    maxPixels=1e13\n",
    ")\n",
    "\n",
    "task.start()"
   ]
  },
  {
   "cell_type": "code",
   "execution_count": 22,
   "id": "bb4fb9cf",
   "metadata": {},
   "outputs": [
    {
     "data": {
      "text/html": [
       "\n",
       "            <style>\n",
       "                .geemap-dark {\n",
       "                    --jp-widgets-color: white;\n",
       "                    --jp-widgets-label-color: white;\n",
       "                    --jp-ui-font-color1: white;\n",
       "                    --jp-layout-color2: #454545;\n",
       "                    background-color: #383838;\n",
       "                }\n",
       "\n",
       "                .geemap-dark .jupyter-button {\n",
       "                    --jp-layout-color3: #383838;\n",
       "                }\n",
       "\n",
       "                .geemap-colab {\n",
       "                    background-color: var(--colab-primary-surface-color, white);\n",
       "                }\n",
       "\n",
       "                .geemap-colab .jupyter-button {\n",
       "                    --jp-layout-color3: var(--colab-primary-surface-color, white);\n",
       "                }\n",
       "            </style>\n",
       "            "
      ],
      "text/plain": [
       "<IPython.core.display.HTML object>"
      ]
     },
     "metadata": {},
     "output_type": "display_data"
    }
   ],
   "source": [
    "# Export to Google Drive\n",
    "task = ee.batch.Export.image.toDrive(\n",
    "    image=changewater,\n",
    "    description='change_water_100m_30m',\n",
    "    folder='GEE_exports',\n",
    "    fileNamePrefix='change_water_100m_30m',\n",
    "    region=world_bbox,\n",
    "    scale=100,\n",
    "    maxPixels=1e13\n",
    ")\n",
    "\n",
    "task.start()"
   ]
  },
  {
   "cell_type": "markdown",
   "id": "8c85ee89",
   "metadata": {},
   "source": [
    "### NOTE: see the progress of exports at [GEE Task Manager](https://code.earthengine.google.com/tasks)"
   ]
  },
  {
   "cell_type": "code",
   "execution_count": 23,
   "id": "b75c3165",
   "metadata": {},
   "outputs": [
    {
     "data": {
      "text/html": [
       "\n",
       "            <style>\n",
       "                .geemap-dark {\n",
       "                    --jp-widgets-color: white;\n",
       "                    --jp-widgets-label-color: white;\n",
       "                    --jp-ui-font-color1: white;\n",
       "                    --jp-layout-color2: #454545;\n",
       "                    background-color: #383838;\n",
       "                }\n",
       "\n",
       "                .geemap-dark .jupyter-button {\n",
       "                    --jp-layout-color3: #383838;\n",
       "                }\n",
       "\n",
       "                .geemap-colab {\n",
       "                    background-color: var(--colab-primary-surface-color, white);\n",
       "                }\n",
       "\n",
       "                .geemap-colab .jupyter-button {\n",
       "                    --jp-layout-color3: var(--colab-primary-surface-color, white);\n",
       "                }\n",
       "            </style>\n",
       "            "
      ],
      "text/plain": [
       "<IPython.core.display.HTML object>"
      ]
     },
     "metadata": {},
     "output_type": "display_data"
    }
   ],
   "source": [
    "import os\n",
    "from pathlib import Path\n",
    "\n",
    "import pandas as pd\n",
    "import numpy as np\n",
    "import geopandas as gpd\n",
    "\n",
    "import matplotlib.pyplot as plt\n",
    "import matplotlib.colors as mcolors\n",
    "from matplotlib.patches import Patch\n",
    "import matplotlib.patches as mpatches\n",
    "from matplotlib.font_manager import FontProperties\n",
    "\n",
    "import mapclassify\n",
    "\n",
    "from rapidfuzz import process, fuzz\n",
    "\n",
    "from shapely.geometry import Point\n",
    "\n",
    "import rasterio\n",
    "from rasterio.plot import show\n",
    "from rasterio.mask import mask\n",
    "from rasterstats import zonal_stats\n",
    "from glob import glob\n",
    "from rasterio.merge import merge\n",
    "from rasterio.enums import Resampling\n",
    "from rasterio.io import MemoryFile\n",
    "from rasterio.warp import calculate_default_transform, reproject, Resampling"
   ]
  },
  {
   "cell_type": "code",
   "execution_count": 24,
   "id": "e881ff90",
   "metadata": {},
   "outputs": [
    {
     "data": {
      "text/html": [
       "\n",
       "            <style>\n",
       "                .geemap-dark {\n",
       "                    --jp-widgets-color: white;\n",
       "                    --jp-widgets-label-color: white;\n",
       "                    --jp-ui-font-color1: white;\n",
       "                    --jp-layout-color2: #454545;\n",
       "                    background-color: #383838;\n",
       "                }\n",
       "\n",
       "                .geemap-dark .jupyter-button {\n",
       "                    --jp-layout-color3: #383838;\n",
       "                }\n",
       "\n",
       "                .geemap-colab {\n",
       "                    background-color: var(--colab-primary-surface-color, white);\n",
       "                }\n",
       "\n",
       "                .geemap-colab .jupyter-button {\n",
       "                    --jp-layout-color3: var(--colab-primary-surface-color, white);\n",
       "                }\n",
       "            </style>\n",
       "            "
      ],
      "text/plain": [
       "<IPython.core.display.HTML object>"
      ]
     },
     "metadata": {},
     "output_type": "display_data"
    }
   ],
   "source": [
    "# Set base project path\n",
    "base_path = Path(\"C:/Users/juami/Dropbox/RAships/2-Folklore-Nathan-Project/EA-Maps-Nathan-project/Measures_work\")\n",
    "\n",
    "# Set file paths\n",
    "poscol_path = base_path / \"data\" / \"raw\" / \"ethnologue\" / \"ancestral_characteristics_database_language_level\" / \"Ethnologue_16_shapefile\" / \"langa_no_overlap_biggest_clean.shp\"\n",
    "\n",
    "data_path = base_path / \"data\" / \"interim\"\n",
    "maps_path = base_path / \"maps\" / \"raw\"\n",
    "water_path = maps_path / \"Water_surface\" "
   ]
  },
  {
   "cell_type": "code",
   "execution_count": 25,
   "id": "3418c8c2",
   "metadata": {},
   "outputs": [
    {
     "data": {
      "text/html": [
       "\n",
       "            <style>\n",
       "                .geemap-dark {\n",
       "                    --jp-widgets-color: white;\n",
       "                    --jp-widgets-label-color: white;\n",
       "                    --jp-ui-font-color1: white;\n",
       "                    --jp-layout-color2: #454545;\n",
       "                    background-color: #383838;\n",
       "                }\n",
       "\n",
       "                .geemap-dark .jupyter-button {\n",
       "                    --jp-layout-color3: #383838;\n",
       "                }\n",
       "\n",
       "                .geemap-colab {\n",
       "                    background-color: var(--colab-primary-surface-color, white);\n",
       "                }\n",
       "\n",
       "                .geemap-colab .jupyter-button {\n",
       "                    --jp-layout-color3: var(--colab-primary-surface-color, white);\n",
       "                }\n",
       "            </style>\n",
       "            "
      ],
      "text/plain": [
       "<IPython.core.display.HTML object>"
      ]
     },
     "metadata": {},
     "output_type": "display_data"
    },
    {
     "name": "stdout",
     "output_type": "stream",
     "text": [
      "Number of features: 7087\n"
     ]
    }
   ],
   "source": [
    "# Read the shapefiles and CSV files\n",
    "ethnologue = gpd.read_file(poscol_path)\n",
    "\n",
    "# Keep only relevant columns\n",
    "ethnologue = ethnologue[[\"ID\", \"geometry\"]]\n",
    "\n",
    "print(f\"Number of features: {len(ethnologue)}\") "
   ]
  },
  {
   "cell_type": "code",
   "execution_count": 26,
   "id": "f5378a90",
   "metadata": {},
   "outputs": [
    {
     "data": {
      "text/html": [
       "\n",
       "            <style>\n",
       "                .geemap-dark {\n",
       "                    --jp-widgets-color: white;\n",
       "                    --jp-widgets-label-color: white;\n",
       "                    --jp-ui-font-color1: white;\n",
       "                    --jp-layout-color2: #454545;\n",
       "                    background-color: #383838;\n",
       "                }\n",
       "\n",
       "                .geemap-dark .jupyter-button {\n",
       "                    --jp-layout-color3: #383838;\n",
       "                }\n",
       "\n",
       "                .geemap-colab {\n",
       "                    background-color: var(--colab-primary-surface-color, white);\n",
       "                }\n",
       "\n",
       "                .geemap-colab .jupyter-button {\n",
       "                    --jp-layout-color3: var(--colab-primary-surface-color, white);\n",
       "                }\n",
       "            </style>\n",
       "            "
      ],
      "text/plain": [
       "<IPython.core.display.HTML object>"
      ]
     },
     "metadata": {},
     "output_type": "display_data"
    },
    {
     "name": "stdout",
     "output_type": "stream",
     "text": [
      "Found raster files: ['C:\\\\Users\\\\juami\\\\Dropbox\\\\RAships\\\\2-Folklore-Nathan-Project\\\\EA-Maps-Nathan-project\\\\Measures_work\\\\maps\\\\raw\\\\Water_surface\\\\perm_water\\\\perm_water_100m_30m-0000000000-0000000000.tif', 'C:\\\\Users\\\\juami\\\\Dropbox\\\\RAships\\\\2-Folklore-Nathan-Project\\\\EA-Maps-Nathan-project\\\\Measures_work\\\\maps\\\\raw\\\\Water_surface\\\\perm_water\\\\perm_water_100m_30m-0000000000-0000065536.tif', 'C:\\\\Users\\\\juami\\\\Dropbox\\\\RAships\\\\2-Folklore-Nathan-Project\\\\EA-Maps-Nathan-project\\\\Measures_work\\\\maps\\\\raw\\\\Water_surface\\\\perm_water\\\\perm_water_100m_30m-0000000000-0000131072.tif', 'C:\\\\Users\\\\juami\\\\Dropbox\\\\RAships\\\\2-Folklore-Nathan-Project\\\\EA-Maps-Nathan-project\\\\Measures_work\\\\maps\\\\raw\\\\Water_surface\\\\perm_water\\\\perm_water_100m_30m-0000000000-0000196608.tif', 'C:\\\\Users\\\\juami\\\\Dropbox\\\\RAships\\\\2-Folklore-Nathan-Project\\\\EA-Maps-Nathan-project\\\\Measures_work\\\\maps\\\\raw\\\\Water_surface\\\\perm_water\\\\perm_water_100m_30m-0000000000-0000262144.tif', 'C:\\\\Users\\\\juami\\\\Dropbox\\\\RAships\\\\2-Folklore-Nathan-Project\\\\EA-Maps-Nathan-project\\\\Measures_work\\\\maps\\\\raw\\\\Water_surface\\\\perm_water\\\\perm_water_100m_30m-0000000000-0000327680.tif', 'C:\\\\Users\\\\juami\\\\Dropbox\\\\RAships\\\\2-Folklore-Nathan-Project\\\\EA-Maps-Nathan-project\\\\Measures_work\\\\maps\\\\raw\\\\Water_surface\\\\perm_water\\\\perm_water_100m_30m-0000000000-0000393216.tif', 'C:\\\\Users\\\\juami\\\\Dropbox\\\\RAships\\\\2-Folklore-Nathan-Project\\\\EA-Maps-Nathan-project\\\\Measures_work\\\\maps\\\\raw\\\\Water_surface\\\\perm_water\\\\perm_water_100m_30m-0000065536-0000000000.tif', 'C:\\\\Users\\\\juami\\\\Dropbox\\\\RAships\\\\2-Folklore-Nathan-Project\\\\EA-Maps-Nathan-project\\\\Measures_work\\\\maps\\\\raw\\\\Water_surface\\\\perm_water\\\\perm_water_100m_30m-0000065536-0000065536.tif', 'C:\\\\Users\\\\juami\\\\Dropbox\\\\RAships\\\\2-Folklore-Nathan-Project\\\\EA-Maps-Nathan-project\\\\Measures_work\\\\maps\\\\raw\\\\Water_surface\\\\perm_water\\\\perm_water_100m_30m-0000065536-0000131072.tif', 'C:\\\\Users\\\\juami\\\\Dropbox\\\\RAships\\\\2-Folklore-Nathan-Project\\\\EA-Maps-Nathan-project\\\\Measures_work\\\\maps\\\\raw\\\\Water_surface\\\\perm_water\\\\perm_water_100m_30m-0000065536-0000196608.tif', 'C:\\\\Users\\\\juami\\\\Dropbox\\\\RAships\\\\2-Folklore-Nathan-Project\\\\EA-Maps-Nathan-project\\\\Measures_work\\\\maps\\\\raw\\\\Water_surface\\\\perm_water\\\\perm_water_100m_30m-0000065536-0000262144.tif', 'C:\\\\Users\\\\juami\\\\Dropbox\\\\RAships\\\\2-Folklore-Nathan-Project\\\\EA-Maps-Nathan-project\\\\Measures_work\\\\maps\\\\raw\\\\Water_surface\\\\perm_water\\\\perm_water_100m_30m-0000065536-0000327680.tif', 'C:\\\\Users\\\\juami\\\\Dropbox\\\\RAships\\\\2-Folklore-Nathan-Project\\\\EA-Maps-Nathan-project\\\\Measures_work\\\\maps\\\\raw\\\\Water_surface\\\\perm_water\\\\perm_water_100m_30m-0000065536-0000393216.tif', 'C:\\\\Users\\\\juami\\\\Dropbox\\\\RAships\\\\2-Folklore-Nathan-Project\\\\EA-Maps-Nathan-project\\\\Measures_work\\\\maps\\\\raw\\\\Water_surface\\\\perm_water\\\\perm_water_100m_30m-0000131072-0000000000.tif', 'C:\\\\Users\\\\juami\\\\Dropbox\\\\RAships\\\\2-Folklore-Nathan-Project\\\\EA-Maps-Nathan-project\\\\Measures_work\\\\maps\\\\raw\\\\Water_surface\\\\perm_water\\\\perm_water_100m_30m-0000131072-0000065536.tif', 'C:\\\\Users\\\\juami\\\\Dropbox\\\\RAships\\\\2-Folklore-Nathan-Project\\\\EA-Maps-Nathan-project\\\\Measures_work\\\\maps\\\\raw\\\\Water_surface\\\\perm_water\\\\perm_water_100m_30m-0000131072-0000131072.tif', 'C:\\\\Users\\\\juami\\\\Dropbox\\\\RAships\\\\2-Folklore-Nathan-Project\\\\EA-Maps-Nathan-project\\\\Measures_work\\\\maps\\\\raw\\\\Water_surface\\\\perm_water\\\\perm_water_100m_30m-0000131072-0000196608.tif', 'C:\\\\Users\\\\juami\\\\Dropbox\\\\RAships\\\\2-Folklore-Nathan-Project\\\\EA-Maps-Nathan-project\\\\Measures_work\\\\maps\\\\raw\\\\Water_surface\\\\perm_water\\\\perm_water_100m_30m-0000131072-0000262144.tif', 'C:\\\\Users\\\\juami\\\\Dropbox\\\\RAships\\\\2-Folklore-Nathan-Project\\\\EA-Maps-Nathan-project\\\\Measures_work\\\\maps\\\\raw\\\\Water_surface\\\\perm_water\\\\perm_water_100m_30m-0000131072-0000327680.tif', 'C:\\\\Users\\\\juami\\\\Dropbox\\\\RAships\\\\2-Folklore-Nathan-Project\\\\EA-Maps-Nathan-project\\\\Measures_work\\\\maps\\\\raw\\\\Water_surface\\\\perm_water\\\\perm_water_100m_30m-0000131072-0000393216.tif']\n"
     ]
    }
   ],
   "source": [
    "# List all the raster files \n",
    "raster_files = glob(str(water_path / \"perm_water\" / \"*.tif\"))\n",
    "\n",
    "print(\"Found raster files:\", raster_files)\n",
    "\n",
    "# Read in all the rasters\n",
    "src_files_to_mosaic = [rasterio.open(fp) for fp in raster_files]\n",
    "\n",
    "from rasterio.merge import merge\n",
    "\n",
    "# Set a coarser resolution\n",
    "mosaic, out_trans = merge(\n",
    "    src_files_to_mosaic,\n",
    "    res=(0.01, 0.01),  # Approx ~1km resolution (in degrees)\n",
    "    resampling=Resampling.average  # Can also try Resampling.nearest\n",
    ")"
   ]
  },
  {
   "cell_type": "code",
   "execution_count": 27,
   "id": "b805517f",
   "metadata": {},
   "outputs": [
    {
     "data": {
      "text/html": [
       "\n",
       "            <style>\n",
       "                .geemap-dark {\n",
       "                    --jp-widgets-color: white;\n",
       "                    --jp-widgets-label-color: white;\n",
       "                    --jp-ui-font-color1: white;\n",
       "                    --jp-layout-color2: #454545;\n",
       "                    background-color: #383838;\n",
       "                }\n",
       "\n",
       "                .geemap-dark .jupyter-button {\n",
       "                    --jp-layout-color3: #383838;\n",
       "                }\n",
       "\n",
       "                .geemap-colab {\n",
       "                    background-color: var(--colab-primary-surface-color, white);\n",
       "                }\n",
       "\n",
       "                .geemap-colab .jupyter-button {\n",
       "                    --jp-layout-color3: var(--colab-primary-surface-color, white);\n",
       "                }\n",
       "            </style>\n",
       "            "
      ],
      "text/plain": [
       "<IPython.core.display.HTML object>"
      ]
     },
     "metadata": {},
     "output_type": "display_data"
    },
    {
     "name": "stdout",
     "output_type": "stream",
     "text": [
      "Raster 0 CRS: EPSG:4326\n",
      "Raster 1 CRS: EPSG:4326\n",
      "Raster 2 CRS: EPSG:4326\n",
      "Raster 3 CRS: EPSG:4326\n",
      "Raster 4 CRS: EPSG:4326\n",
      "Raster 5 CRS: EPSG:4326\n",
      "Raster 6 CRS: EPSG:4326\n",
      "Raster 7 CRS: EPSG:4326\n",
      "Raster 8 CRS: EPSG:4326\n",
      "Raster 9 CRS: EPSG:4326\n",
      "Raster 10 CRS: EPSG:4326\n",
      "Raster 11 CRS: EPSG:4326\n",
      "Raster 12 CRS: EPSG:4326\n",
      "Raster 13 CRS: EPSG:4326\n",
      "Raster 14 CRS: EPSG:4326\n",
      "Raster 15 CRS: EPSG:4326\n",
      "Raster 16 CRS: EPSG:4326\n",
      "Raster 17 CRS: EPSG:4326\n",
      "Raster 18 CRS: EPSG:4326\n",
      "Raster 19 CRS: EPSG:4326\n",
      "Raster 20 CRS: EPSG:4326\n"
     ]
    }
   ],
   "source": [
    "# Check CRS of each input raster\n",
    "for i, src in enumerate(src_files_to_mosaic):\n",
    "    print(f\"Raster {i} CRS:\", src.crs)\n",
    "\n",
    "ethnologue = ethnologue.to_crs(src_files_to_mosaic[0].crs)"
   ]
  },
  {
   "cell_type": "code",
   "execution_count": 28,
   "id": "4282e479",
   "metadata": {},
   "outputs": [
    {
     "data": {
      "text/html": [
       "\n",
       "            <style>\n",
       "                .geemap-dark {\n",
       "                    --jp-widgets-color: white;\n",
       "                    --jp-widgets-label-color: white;\n",
       "                    --jp-ui-font-color1: white;\n",
       "                    --jp-layout-color2: #454545;\n",
       "                    background-color: #383838;\n",
       "                }\n",
       "\n",
       "                .geemap-dark .jupyter-button {\n",
       "                    --jp-layout-color3: #383838;\n",
       "                }\n",
       "\n",
       "                .geemap-colab {\n",
       "                    background-color: var(--colab-primary-surface-color, white);\n",
       "                }\n",
       "\n",
       "                .geemap-colab .jupyter-button {\n",
       "                    --jp-layout-color3: var(--colab-primary-surface-color, white);\n",
       "                }\n",
       "            </style>\n",
       "            "
      ],
      "text/plain": [
       "<IPython.core.display.HTML object>"
      ]
     },
     "metadata": {},
     "output_type": "display_data"
    },
    {
     "data": {
      "image/png": "[encoded data removed]",
      "text/plain": [
       "<Figure size 1000x1000 with 1 Axes>"
      ]
     },
     "metadata": {},
     "output_type": "display_data"
    }
   ],
   "source": [
    "# Show the first band of the mosaic directly\n",
    "fig, ax = plt.subplots(figsize=(10, 10))\n",
    "show(mosaic, transform=out_trans, ax=ax, title=\"Permanent Water (In-Memory)\")\n",
    "plt.show()"
   ]
  },
  {
   "cell_type": "code",
   "execution_count": 29,
   "id": "d394491f",
   "metadata": {},
   "outputs": [
    {
     "data": {
      "text/html": [
       "\n",
       "            <style>\n",
       "                .geemap-dark {\n",
       "                    --jp-widgets-color: white;\n",
       "                    --jp-widgets-label-color: white;\n",
       "                    --jp-ui-font-color1: white;\n",
       "                    --jp-layout-color2: #454545;\n",
       "                    background-color: #383838;\n",
       "                }\n",
       "\n",
       "                .geemap-dark .jupyter-button {\n",
       "                    --jp-layout-color3: #383838;\n",
       "                }\n",
       "\n",
       "                .geemap-colab {\n",
       "                    background-color: var(--colab-primary-surface-color, white);\n",
       "                }\n",
       "\n",
       "                .geemap-colab .jupyter-button {\n",
       "                    --jp-layout-color3: var(--colab-primary-surface-color, white);\n",
       "                }\n",
       "            </style>\n",
       "            "
      ],
      "text/plain": [
       "<IPython.core.display.HTML object>"
      ]
     },
     "metadata": {},
     "output_type": "display_data"
    },
    {
     "data": {
      "text/html": [
       "<div>\n",
       "<style scoped>\n",
       "    .dataframe tbody tr th:only-of-type {\n",
       "        vertical-align: middle;\n",
       "    }\n",
       "\n",
       "    .dataframe tbody tr th {\n",
       "        vertical-align: top;\n",
       "    }\n",
       "\n",
       "    .dataframe thead th {\n",
       "        text-align: right;\n",
       "    }\n",
       "</style>\n",
       "<table border=\"1\" class=\"dataframe\">\n",
       "  <thead>\n",
       "    <tr style=\"text-align: right;\">\n",
       "      <th></th>\n",
       "      <th>ID</th>\n",
       "      <th>permwater_pixels</th>\n",
       "      <th>permwater_km2</th>\n",
       "    </tr>\n",
       "  </thead>\n",
       "  <tbody>\n",
       "    <tr>\n",
       "      <th>0</th>\n",
       "      <td>RUS-RUS</td>\n",
       "      <td>189623.0</td>\n",
       "      <td>1896.23</td>\n",
       "    </tr>\n",
       "    <tr>\n",
       "      <th>1</th>\n",
       "      <td>ENG-USA</td>\n",
       "      <td>81705.0</td>\n",
       "      <td>817.05</td>\n",
       "    </tr>\n",
       "    <tr>\n",
       "      <th>2</th>\n",
       "      <td>POR-BRA</td>\n",
       "      <td>55294.0</td>\n",
       "      <td>552.94</td>\n",
       "    </tr>\n",
       "    <tr>\n",
       "      <th>3</th>\n",
       "      <td>ENG-AUS</td>\n",
       "      <td>13438.0</td>\n",
       "      <td>134.38</td>\n",
       "    </tr>\n",
       "    <tr>\n",
       "      <th>4</th>\n",
       "      <td>CMN-CHN</td>\n",
       "      <td>17872.0</td>\n",
       "      <td>178.72</td>\n",
       "    </tr>\n",
       "  </tbody>\n",
       "</table>\n",
       "</div>"
      ],
      "text/plain": [
       "        ID  permwater_pixels  permwater_km2\n",
       "0  RUS-RUS          189623.0        1896.23\n",
       "1  ENG-USA           81705.0         817.05\n",
       "2  POR-BRA           55294.0         552.94\n",
       "3  ENG-AUS           13438.0         134.38\n",
       "4  CMN-CHN           17872.0         178.72"
      ]
     },
     "execution_count": 29,
     "metadata": {},
     "output_type": "execute_result"
    }
   ],
   "source": [
    "# Threshold: create binary mask from mosaic\n",
    "binary_mask = (mosaic[0] > 0).astype(np.uint8)  # 1 = perm water, 0 = non-water\n",
    "\n",
    "# Save binary mask to a temporary raster file (needed for zonal_stats)\n",
    "with MemoryFile() as memfile:\n",
    "    with memfile.open(\n",
    "        driver='GTiff',\n",
    "        height=binary_mask.shape[0],\n",
    "        width=binary_mask.shape[1],\n",
    "        count=1,\n",
    "        dtype='uint8',\n",
    "        transform=out_trans,\n",
    "        crs='EPSG:4326' \n",
    "    ) as dataset:\n",
    "        dataset.write(binary_mask, 1)\n",
    "\n",
    "    # Compute zonal statistics using sum (since forest = 1, sum = count of pixels)\n",
    "    stats = zonal_stats(\n",
    "        ethnologue,\n",
    "        memfile.name,\n",
    "        stats=['sum'],\n",
    "        geojson_out=True\n",
    "    )\n",
    "\n",
    "# Attach results to GeoDataFrame\n",
    "ethnologue['permwater_pixels'] = [f['properties']['sum'] for f in stats]\n",
    "\n",
    "# Calculate area in km² (each pixel = 0.01 km² at 100m resolution)\n",
    "ethnologue['permwater_km2'] = ethnologue['permwater_pixels'] * 0.01\n",
    "\n",
    "# View results\n",
    "ethnologue[['ID', 'permwater_pixels', 'permwater_km2']].head()"
   ]
  },
  {
   "cell_type": "code",
   "execution_count": 30,
   "id": "07207759",
   "metadata": {},
   "outputs": [
    {
     "data": {
      "text/html": [
       "\n",
       "            <style>\n",
       "                .geemap-dark {\n",
       "                    --jp-widgets-color: white;\n",
       "                    --jp-widgets-label-color: white;\n",
       "                    --jp-ui-font-color1: white;\n",
       "                    --jp-layout-color2: #454545;\n",
       "                    background-color: #383838;\n",
       "                }\n",
       "\n",
       "                .geemap-dark .jupyter-button {\n",
       "                    --jp-layout-color3: #383838;\n",
       "                }\n",
       "\n",
       "                .geemap-colab {\n",
       "                    background-color: var(--colab-primary-surface-color, white);\n",
       "                }\n",
       "\n",
       "                .geemap-colab .jupyter-button {\n",
       "                    --jp-layout-color3: var(--colab-primary-surface-color, white);\n",
       "                }\n",
       "            </style>\n",
       "            "
      ],
      "text/plain": [
       "<IPython.core.display.HTML object>"
      ]
     },
     "metadata": {},
     "output_type": "display_data"
    },
    {
     "name": "stdout",
     "output_type": "stream",
     "text": [
      "Found raster files: ['C:\\\\Users\\\\juami\\\\Dropbox\\\\RAships\\\\2-Folklore-Nathan-Project\\\\EA-Maps-Nathan-project\\\\Measures_work\\\\maps\\\\raw\\\\Water_surface\\\\loss_water\\\\loss_water_100m_30m-0000000000-0000000000.tif', 'C:\\\\Users\\\\juami\\\\Dropbox\\\\RAships\\\\2-Folklore-Nathan-Project\\\\EA-Maps-Nathan-project\\\\Measures_work\\\\maps\\\\raw\\\\Water_surface\\\\loss_water\\\\loss_water_100m_30m-0000000000-0000065536.tif', 'C:\\\\Users\\\\juami\\\\Dropbox\\\\RAships\\\\2-Folklore-Nathan-Project\\\\EA-Maps-Nathan-project\\\\Measures_work\\\\maps\\\\raw\\\\Water_surface\\\\loss_water\\\\loss_water_100m_30m-0000000000-0000131072.tif', 'C:\\\\Users\\\\juami\\\\Dropbox\\\\RAships\\\\2-Folklore-Nathan-Project\\\\EA-Maps-Nathan-project\\\\Measures_work\\\\maps\\\\raw\\\\Water_surface\\\\loss_water\\\\loss_water_100m_30m-0000000000-0000196608.tif', 'C:\\\\Users\\\\juami\\\\Dropbox\\\\RAships\\\\2-Folklore-Nathan-Project\\\\EA-Maps-Nathan-project\\\\Measures_work\\\\maps\\\\raw\\\\Water_surface\\\\loss_water\\\\loss_water_100m_30m-0000000000-0000262144.tif', 'C:\\\\Users\\\\juami\\\\Dropbox\\\\RAships\\\\2-Folklore-Nathan-Project\\\\EA-Maps-Nathan-project\\\\Measures_work\\\\maps\\\\raw\\\\Water_surface\\\\loss_water\\\\loss_water_100m_30m-0000000000-0000327680.tif', 'C:\\\\Users\\\\juami\\\\Dropbox\\\\RAships\\\\2-Folklore-Nathan-Project\\\\EA-Maps-Nathan-project\\\\Measures_work\\\\maps\\\\raw\\\\Water_surface\\\\loss_water\\\\loss_water_100m_30m-0000000000-0000393216.tif', 'C:\\\\Users\\\\juami\\\\Dropbox\\\\RAships\\\\2-Folklore-Nathan-Project\\\\EA-Maps-Nathan-project\\\\Measures_work\\\\maps\\\\raw\\\\Water_surface\\\\loss_water\\\\loss_water_100m_30m-0000065536-0000000000.tif', 'C:\\\\Users\\\\juami\\\\Dropbox\\\\RAships\\\\2-Folklore-Nathan-Project\\\\EA-Maps-Nathan-project\\\\Measures_work\\\\maps\\\\raw\\\\Water_surface\\\\loss_water\\\\loss_water_100m_30m-0000065536-0000065536.tif', 'C:\\\\Users\\\\juami\\\\Dropbox\\\\RAships\\\\2-Folklore-Nathan-Project\\\\EA-Maps-Nathan-project\\\\Measures_work\\\\maps\\\\raw\\\\Water_surface\\\\loss_water\\\\loss_water_100m_30m-0000065536-0000131072.tif', 'C:\\\\Users\\\\juami\\\\Dropbox\\\\RAships\\\\2-Folklore-Nathan-Project\\\\EA-Maps-Nathan-project\\\\Measures_work\\\\maps\\\\raw\\\\Water_surface\\\\loss_water\\\\loss_water_100m_30m-0000065536-0000196608.tif', 'C:\\\\Users\\\\juami\\\\Dropbox\\\\RAships\\\\2-Folklore-Nathan-Project\\\\EA-Maps-Nathan-project\\\\Measures_work\\\\maps\\\\raw\\\\Water_surface\\\\loss_water\\\\loss_water_100m_30m-0000065536-0000262144.tif', 'C:\\\\Users\\\\juami\\\\Dropbox\\\\RAships\\\\2-Folklore-Nathan-Project\\\\EA-Maps-Nathan-project\\\\Measures_work\\\\maps\\\\raw\\\\Water_surface\\\\loss_water\\\\loss_water_100m_30m-0000065536-0000327680.tif', 'C:\\\\Users\\\\juami\\\\Dropbox\\\\RAships\\\\2-Folklore-Nathan-Project\\\\EA-Maps-Nathan-project\\\\Measures_work\\\\maps\\\\raw\\\\Water_surface\\\\loss_water\\\\loss_water_100m_30m-0000065536-0000393216.tif', 'C:\\\\Users\\\\juami\\\\Dropbox\\\\RAships\\\\2-Folklore-Nathan-Project\\\\EA-Maps-Nathan-project\\\\Measures_work\\\\maps\\\\raw\\\\Water_surface\\\\loss_water\\\\loss_water_100m_30m-0000131072-0000000000.tif', 'C:\\\\Users\\\\juami\\\\Dropbox\\\\RAships\\\\2-Folklore-Nathan-Project\\\\EA-Maps-Nathan-project\\\\Measures_work\\\\maps\\\\raw\\\\Water_surface\\\\loss_water\\\\loss_water_100m_30m-0000131072-0000065536.tif', 'C:\\\\Users\\\\juami\\\\Dropbox\\\\RAships\\\\2-Folklore-Nathan-Project\\\\EA-Maps-Nathan-project\\\\Measures_work\\\\maps\\\\raw\\\\Water_surface\\\\loss_water\\\\loss_water_100m_30m-0000131072-0000131072.tif', 'C:\\\\Users\\\\juami\\\\Dropbox\\\\RAships\\\\2-Folklore-Nathan-Project\\\\EA-Maps-Nathan-project\\\\Measures_work\\\\maps\\\\raw\\\\Water_surface\\\\loss_water\\\\loss_water_100m_30m-0000131072-0000196608.tif', 'C:\\\\Users\\\\juami\\\\Dropbox\\\\RAships\\\\2-Folklore-Nathan-Project\\\\EA-Maps-Nathan-project\\\\Measures_work\\\\maps\\\\raw\\\\Water_surface\\\\loss_water\\\\loss_water_100m_30m-0000131072-0000262144.tif', 'C:\\\\Users\\\\juami\\\\Dropbox\\\\RAships\\\\2-Folklore-Nathan-Project\\\\EA-Maps-Nathan-project\\\\Measures_work\\\\maps\\\\raw\\\\Water_surface\\\\loss_water\\\\loss_water_100m_30m-0000131072-0000327680.tif', 'C:\\\\Users\\\\juami\\\\Dropbox\\\\RAships\\\\2-Folklore-Nathan-Project\\\\EA-Maps-Nathan-project\\\\Measures_work\\\\maps\\\\raw\\\\Water_surface\\\\loss_water\\\\loss_water_100m_30m-0000131072-0000393216.tif']\n"
     ]
    }
   ],
   "source": [
    "# List all the raster files \n",
    "raster_files = glob(str(water_path / \"loss_water\" / \"*.tif\"))\n",
    "\n",
    "print(\"Found raster files:\", raster_files)\n",
    "\n",
    "# Read in all the rasters\n",
    "src_files_to_mosaic = [rasterio.open(fp) for fp in raster_files]\n",
    "\n",
    "from rasterio.merge import merge\n",
    "\n",
    "# Set a coarser resolution\n",
    "mosaic, out_trans = merge(\n",
    "    src_files_to_mosaic,\n",
    "    res=(0.01, 0.01),  # Approx ~1km resolution (in degrees)\n",
    "    resampling=Resampling.average  # Can also try Resampling.nearest\n",
    ")"
   ]
  },
  {
   "cell_type": "code",
   "execution_count": 31,
   "id": "1a26b8c5",
   "metadata": {},
   "outputs": [
    {
     "data": {
      "text/html": [
       "\n",
       "            <style>\n",
       "                .geemap-dark {\n",
       "                    --jp-widgets-color: white;\n",
       "                    --jp-widgets-label-color: white;\n",
       "                    --jp-ui-font-color1: white;\n",
       "                    --jp-layout-color2: #454545;\n",
       "                    background-color: #383838;\n",
       "                }\n",
       "\n",
       "                .geemap-dark .jupyter-button {\n",
       "                    --jp-layout-color3: #383838;\n",
       "                }\n",
       "\n",
       "                .geemap-colab {\n",
       "                    background-color: var(--colab-primary-surface-color, white);\n",
       "                }\n",
       "\n",
       "                .geemap-colab .jupyter-button {\n",
       "                    --jp-layout-color3: var(--colab-primary-surface-color, white);\n",
       "                }\n",
       "            </style>\n",
       "            "
      ],
      "text/plain": [
       "<IPython.core.display.HTML object>"
      ]
     },
     "metadata": {},
     "output_type": "display_data"
    },
    {
     "data": {
      "text/html": [
       "<div>\n",
       "<style scoped>\n",
       "    .dataframe tbody tr th:only-of-type {\n",
       "        vertical-align: middle;\n",
       "    }\n",
       "\n",
       "    .dataframe tbody tr th {\n",
       "        vertical-align: top;\n",
       "    }\n",
       "\n",
       "    .dataframe thead th {\n",
       "        text-align: right;\n",
       "    }\n",
       "</style>\n",
       "<table border=\"1\" class=\"dataframe\">\n",
       "  <thead>\n",
       "    <tr style=\"text-align: right;\">\n",
       "      <th></th>\n",
       "      <th>ID</th>\n",
       "      <th>losswater_km2</th>\n",
       "      <th>losswater_pixels</th>\n",
       "    </tr>\n",
       "  </thead>\n",
       "  <tbody>\n",
       "    <tr>\n",
       "      <th>0</th>\n",
       "      <td>RUS-RUS</td>\n",
       "      <td>11.45</td>\n",
       "      <td>1145.0</td>\n",
       "    </tr>\n",
       "    <tr>\n",
       "      <th>1</th>\n",
       "      <td>ENG-USA</td>\n",
       "      <td>29.60</td>\n",
       "      <td>2960.0</td>\n",
       "    </tr>\n",
       "    <tr>\n",
       "      <th>2</th>\n",
       "      <td>POR-BRA</td>\n",
       "      <td>8.76</td>\n",
       "      <td>876.0</td>\n",
       "    </tr>\n",
       "    <tr>\n",
       "      <th>3</th>\n",
       "      <td>ENG-AUS</td>\n",
       "      <td>3.95</td>\n",
       "      <td>395.0</td>\n",
       "    </tr>\n",
       "    <tr>\n",
       "      <th>4</th>\n",
       "      <td>CMN-CHN</td>\n",
       "      <td>5.42</td>\n",
       "      <td>542.0</td>\n",
       "    </tr>\n",
       "  </tbody>\n",
       "</table>\n",
       "</div>"
      ],
      "text/plain": [
       "        ID  losswater_km2  losswater_pixels\n",
       "0  RUS-RUS          11.45            1145.0\n",
       "1  ENG-USA          29.60            2960.0\n",
       "2  POR-BRA           8.76             876.0\n",
       "3  ENG-AUS           3.95             395.0\n",
       "4  CMN-CHN           5.42             542.0"
      ]
     },
     "execution_count": 31,
     "metadata": {},
     "output_type": "execute_result"
    }
   ],
   "source": [
    "# Threshold: create binary mask from mosaic\n",
    "binary_mask = (mosaic[0] > 0).astype(np.uint8)  # 1 = perm water, 0 = non-water\n",
    "\n",
    "# Save binary mask to a temporary raster file (needed for zonal_stats)\n",
    "with MemoryFile() as memfile:\n",
    "    with memfile.open(\n",
    "        driver='GTiff',\n",
    "        height=binary_mask.shape[0],\n",
    "        width=binary_mask.shape[1],\n",
    "        count=1,\n",
    "        dtype='uint8',\n",
    "        transform=out_trans,\n",
    "        crs='EPSG:4326' \n",
    "    ) as dataset:\n",
    "        dataset.write(binary_mask, 1)\n",
    "\n",
    "    # Compute zonal statistics using sum (since forest = 1, sum = count of pixels)\n",
    "    stats = zonal_stats(\n",
    "        ethnologue,\n",
    "        memfile.name,\n",
    "        stats=['sum'],\n",
    "        geojson_out=True\n",
    "    )\n",
    "\n",
    "# Attach results to GeoDataFrame\n",
    "ethnologue['losswater_pixels'] = [f['properties']['sum'] for f in stats]\n",
    "\n",
    "# Calculate area in km² (each pixel = 0.01 km² at 100m resolution)\n",
    "ethnologue['losswater_km2'] = ethnologue['losswater_pixels'] * 0.01\n",
    "\n",
    "# View results\n",
    "ethnologue[['ID', 'losswater_km2', 'losswater_pixels']].head()"
   ]
  },
  {
   "cell_type": "code",
   "execution_count": 32,
   "id": "ffd69f34",
   "metadata": {},
   "outputs": [
    {
     "data": {
      "text/html": [
       "\n",
       "            <style>\n",
       "                .geemap-dark {\n",
       "                    --jp-widgets-color: white;\n",
       "                    --jp-widgets-label-color: white;\n",
       "                    --jp-ui-font-color1: white;\n",
       "                    --jp-layout-color2: #454545;\n",
       "                    background-color: #383838;\n",
       "                }\n",
       "\n",
       "                .geemap-dark .jupyter-button {\n",
       "                    --jp-layout-color3: #383838;\n",
       "                }\n",
       "\n",
       "                .geemap-colab {\n",
       "                    background-color: var(--colab-primary-surface-color, white);\n",
       "                }\n",
       "\n",
       "                .geemap-colab .jupyter-button {\n",
       "                    --jp-layout-color3: var(--colab-primary-surface-color, white);\n",
       "                }\n",
       "            </style>\n",
       "            "
      ],
      "text/plain": [
       "<IPython.core.display.HTML object>"
      ]
     },
     "metadata": {},
     "output_type": "display_data"
    },
    {
     "name": "stdout",
     "output_type": "stream",
     "text": [
      "Found raster files: ['C:\\\\Users\\\\juami\\\\Dropbox\\\\RAships\\\\2-Folklore-Nathan-Project\\\\EA-Maps-Nathan-project\\\\Measures_work\\\\maps\\\\raw\\\\Water_surface\\\\change_water\\\\change_water_100m_30m-0000000000-0000000000.tif', 'C:\\\\Users\\\\juami\\\\Dropbox\\\\RAships\\\\2-Folklore-Nathan-Project\\\\EA-Maps-Nathan-project\\\\Measures_work\\\\maps\\\\raw\\\\Water_surface\\\\change_water\\\\change_water_100m_30m-0000000000-0000065536.tif', 'C:\\\\Users\\\\juami\\\\Dropbox\\\\RAships\\\\2-Folklore-Nathan-Project\\\\EA-Maps-Nathan-project\\\\Measures_work\\\\maps\\\\raw\\\\Water_surface\\\\change_water\\\\change_water_100m_30m-0000000000-0000131072.tif', 'C:\\\\Users\\\\juami\\\\Dropbox\\\\RAships\\\\2-Folklore-Nathan-Project\\\\EA-Maps-Nathan-project\\\\Measures_work\\\\maps\\\\raw\\\\Water_surface\\\\change_water\\\\change_water_100m_30m-0000000000-0000196608.tif', 'C:\\\\Users\\\\juami\\\\Dropbox\\\\RAships\\\\2-Folklore-Nathan-Project\\\\EA-Maps-Nathan-project\\\\Measures_work\\\\maps\\\\raw\\\\Water_surface\\\\change_water\\\\change_water_100m_30m-0000000000-0000262144.tif', 'C:\\\\Users\\\\juami\\\\Dropbox\\\\RAships\\\\2-Folklore-Nathan-Project\\\\EA-Maps-Nathan-project\\\\Measures_work\\\\maps\\\\raw\\\\Water_surface\\\\change_water\\\\change_water_100m_30m-0000000000-0000327680.tif', 'C:\\\\Users\\\\juami\\\\Dropbox\\\\RAships\\\\2-Folklore-Nathan-Project\\\\EA-Maps-Nathan-project\\\\Measures_work\\\\maps\\\\raw\\\\Water_surface\\\\change_water\\\\change_water_100m_30m-0000000000-0000393216.tif', 'C:\\\\Users\\\\juami\\\\Dropbox\\\\RAships\\\\2-Folklore-Nathan-Project\\\\EA-Maps-Nathan-project\\\\Measures_work\\\\maps\\\\raw\\\\Water_surface\\\\change_water\\\\change_water_100m_30m-0000065536-0000000000.tif', 'C:\\\\Users\\\\juami\\\\Dropbox\\\\RAships\\\\2-Folklore-Nathan-Project\\\\EA-Maps-Nathan-project\\\\Measures_work\\\\maps\\\\raw\\\\Water_surface\\\\change_water\\\\change_water_100m_30m-0000065536-0000065536.tif', 'C:\\\\Users\\\\juami\\\\Dropbox\\\\RAships\\\\2-Folklore-Nathan-Project\\\\EA-Maps-Nathan-project\\\\Measures_work\\\\maps\\\\raw\\\\Water_surface\\\\change_water\\\\change_water_100m_30m-0000065536-0000131072.tif', 'C:\\\\Users\\\\juami\\\\Dropbox\\\\RAships\\\\2-Folklore-Nathan-Project\\\\EA-Maps-Nathan-project\\\\Measures_work\\\\maps\\\\raw\\\\Water_surface\\\\change_water\\\\change_water_100m_30m-0000065536-0000196608.tif', 'C:\\\\Users\\\\juami\\\\Dropbox\\\\RAships\\\\2-Folklore-Nathan-Project\\\\EA-Maps-Nathan-project\\\\Measures_work\\\\maps\\\\raw\\\\Water_surface\\\\change_water\\\\change_water_100m_30m-0000065536-0000262144.tif', 'C:\\\\Users\\\\juami\\\\Dropbox\\\\RAships\\\\2-Folklore-Nathan-Project\\\\EA-Maps-Nathan-project\\\\Measures_work\\\\maps\\\\raw\\\\Water_surface\\\\change_water\\\\change_water_100m_30m-0000065536-0000327680.tif', 'C:\\\\Users\\\\juami\\\\Dropbox\\\\RAships\\\\2-Folklore-Nathan-Project\\\\EA-Maps-Nathan-project\\\\Measures_work\\\\maps\\\\raw\\\\Water_surface\\\\change_water\\\\change_water_100m_30m-0000065536-0000393216.tif', 'C:\\\\Users\\\\juami\\\\Dropbox\\\\RAships\\\\2-Folklore-Nathan-Project\\\\EA-Maps-Nathan-project\\\\Measures_work\\\\maps\\\\raw\\\\Water_surface\\\\change_water\\\\change_water_100m_30m-0000131072-0000000000.tif', 'C:\\\\Users\\\\juami\\\\Dropbox\\\\RAships\\\\2-Folklore-Nathan-Project\\\\EA-Maps-Nathan-project\\\\Measures_work\\\\maps\\\\raw\\\\Water_surface\\\\change_water\\\\change_water_100m_30m-0000131072-0000065536.tif', 'C:\\\\Users\\\\juami\\\\Dropbox\\\\RAships\\\\2-Folklore-Nathan-Project\\\\EA-Maps-Nathan-project\\\\Measures_work\\\\maps\\\\raw\\\\Water_surface\\\\change_water\\\\change_water_100m_30m-0000131072-0000131072.tif', 'C:\\\\Users\\\\juami\\\\Dropbox\\\\RAships\\\\2-Folklore-Nathan-Project\\\\EA-Maps-Nathan-project\\\\Measures_work\\\\maps\\\\raw\\\\Water_surface\\\\change_water\\\\change_water_100m_30m-0000131072-0000196608.tif', 'C:\\\\Users\\\\juami\\\\Dropbox\\\\RAships\\\\2-Folklore-Nathan-Project\\\\EA-Maps-Nathan-project\\\\Measures_work\\\\maps\\\\raw\\\\Water_surface\\\\change_water\\\\change_water_100m_30m-0000131072-0000262144.tif', 'C:\\\\Users\\\\juami\\\\Dropbox\\\\RAships\\\\2-Folklore-Nathan-Project\\\\EA-Maps-Nathan-project\\\\Measures_work\\\\maps\\\\raw\\\\Water_surface\\\\change_water\\\\change_water_100m_30m-0000131072-0000327680.tif', 'C:\\\\Users\\\\juami\\\\Dropbox\\\\RAships\\\\2-Folklore-Nathan-Project\\\\EA-Maps-Nathan-project\\\\Measures_work\\\\maps\\\\raw\\\\Water_surface\\\\change_water\\\\change_water_100m_30m-0000131072-0000393216.tif']\n"
     ]
    }
   ],
   "source": [
    "# List all the raster files \n",
    "raster_files = glob(str(water_path / \"change_water\" / \"*.tif\"))\n",
    "\n",
    "print(\"Found raster files:\", raster_files)\n",
    "\n",
    "# Read in all the rasters\n",
    "src_files_to_mosaic = [rasterio.open(fp) for fp in raster_files]\n",
    "\n",
    "from rasterio.merge import merge\n",
    "\n",
    "# Set a coarser resolution\n",
    "mosaic, out_trans = merge(\n",
    "    src_files_to_mosaic,\n",
    "    res=(0.01, 0.01),  # Approx ~1km resolution (in degrees)\n",
    "    resampling=Resampling.average  # Can also try Resampling.nearest\n",
    ")"
   ]
  },
  {
   "cell_type": "code",
   "execution_count": 33,
   "id": "f54a55da",
   "metadata": {},
   "outputs": [
    {
     "data": {
      "text/html": [
       "\n",
       "            <style>\n",
       "                .geemap-dark {\n",
       "                    --jp-widgets-color: white;\n",
       "                    --jp-widgets-label-color: white;\n",
       "                    --jp-ui-font-color1: white;\n",
       "                    --jp-layout-color2: #454545;\n",
       "                    background-color: #383838;\n",
       "                }\n",
       "\n",
       "                .geemap-dark .jupyter-button {\n",
       "                    --jp-layout-color3: #383838;\n",
       "                }\n",
       "\n",
       "                .geemap-colab {\n",
       "                    background-color: var(--colab-primary-surface-color, white);\n",
       "                }\n",
       "\n",
       "                .geemap-colab .jupyter-button {\n",
       "                    --jp-layout-color3: var(--colab-primary-surface-color, white);\n",
       "                }\n",
       "            </style>\n",
       "            "
      ],
      "text/plain": [
       "<IPython.core.display.HTML object>"
      ]
     },
     "metadata": {},
     "output_type": "display_data"
    },
    {
     "data": {
      "text/html": [
       "<div>\n",
       "<style scoped>\n",
       "    .dataframe tbody tr th:only-of-type {\n",
       "        vertical-align: middle;\n",
       "    }\n",
       "\n",
       "    .dataframe tbody tr th {\n",
       "        vertical-align: top;\n",
       "    }\n",
       "\n",
       "    .dataframe thead th {\n",
       "        text-align: right;\n",
       "    }\n",
       "</style>\n",
       "<table border=\"1\" class=\"dataframe\">\n",
       "  <thead>\n",
       "    <tr style=\"text-align: right;\">\n",
       "      <th></th>\n",
       "      <th>ID</th>\n",
       "      <th>changewater</th>\n",
       "    </tr>\n",
       "  </thead>\n",
       "  <tbody>\n",
       "    <tr>\n",
       "      <th>0</th>\n",
       "      <td>RUS-RUS</td>\n",
       "      <td>3.511817</td>\n",
       "    </tr>\n",
       "    <tr>\n",
       "      <th>1</th>\n",
       "      <td>ENG-USA</td>\n",
       "      <td>2.451499</td>\n",
       "    </tr>\n",
       "    <tr>\n",
       "      <th>2</th>\n",
       "      <td>POR-BRA</td>\n",
       "      <td>2.190261</td>\n",
       "    </tr>\n",
       "    <tr>\n",
       "      <th>3</th>\n",
       "      <td>ENG-AUS</td>\n",
       "      <td>1.530803</td>\n",
       "    </tr>\n",
       "    <tr>\n",
       "      <th>4</th>\n",
       "      <td>CMN-CHN</td>\n",
       "      <td>2.867627</td>\n",
       "    </tr>\n",
       "  </tbody>\n",
       "</table>\n",
       "</div>"
      ],
      "text/plain": [
       "        ID  changewater\n",
       "0  RUS-RUS     3.511817\n",
       "1  ENG-USA     2.451499\n",
       "2  POR-BRA     2.190261\n",
       "3  ENG-AUS     1.530803\n",
       "4  CMN-CHN     2.867627"
      ]
     },
     "execution_count": 33,
     "metadata": {},
     "output_type": "execute_result"
    }
   ],
   "source": [
    "# Save continuous raster to a temporary raster file (needed for zonal_stats)\n",
    "with MemoryFile() as memfile:\n",
    "    with memfile.open(\n",
    "        driver='GTiff',\n",
    "        height=mosaic.shape[1],  # Shape is (bands, height, width)\n",
    "        width=mosaic.shape[2],\n",
    "        count=1,\n",
    "        dtype='float32',\n",
    "        transform=out_trans,\n",
    "        crs='EPSG:4326' \n",
    "    ) as dataset:\n",
    "        dataset.write(mosaic[0], 1)  # Write first band only\n",
    "\n",
    "    # Compute zonal statistics using mean for continuous water change values\n",
    "    stats = zonal_stats(\n",
    "        ethnologue,\n",
    "        memfile.name,\n",
    "        stats=['mean'],\n",
    "        geojson_out=True\n",
    "    )\n",
    "\n",
    "# Attach results to GeoDataFrame\n",
    "ethnologue['changewater'] = [f['properties']['mean'] for f in stats]\n",
    "\n",
    "# View results\n",
    "ethnologue[['ID', 'changewater']].head()"
   ]
  },
  {
   "cell_type": "code",
   "execution_count": 34,
   "id": "6ba282ba",
   "metadata": {},
   "outputs": [
    {
     "data": {
      "text/html": [
       "\n",
       "            <style>\n",
       "                .geemap-dark {\n",
       "                    --jp-widgets-color: white;\n",
       "                    --jp-widgets-label-color: white;\n",
       "                    --jp-ui-font-color1: white;\n",
       "                    --jp-layout-color2: #454545;\n",
       "                    background-color: #383838;\n",
       "                }\n",
       "\n",
       "                .geemap-dark .jupyter-button {\n",
       "                    --jp-layout-color3: #383838;\n",
       "                }\n",
       "\n",
       "                .geemap-colab {\n",
       "                    background-color: var(--colab-primary-surface-color, white);\n",
       "                }\n",
       "\n",
       "                .geemap-colab .jupyter-button {\n",
       "                    --jp-layout-color3: var(--colab-primary-surface-color, white);\n",
       "                }\n",
       "            </style>\n",
       "            "
      ],
      "text/plain": [
       "<IPython.core.display.HTML object>"
      ]
     },
     "metadata": {},
     "output_type": "display_data"
    },
    {
     "data": {
      "text/html": [
       "<div>\n",
       "<style scoped>\n",
       "    .dataframe tbody tr th:only-of-type {\n",
       "        vertical-align: middle;\n",
       "    }\n",
       "\n",
       "    .dataframe tbody tr th {\n",
       "        vertical-align: top;\n",
       "    }\n",
       "\n",
       "    .dataframe thead th {\n",
       "        text-align: right;\n",
       "    }\n",
       "</style>\n",
       "<table border=\"1\" class=\"dataframe\">\n",
       "  <thead>\n",
       "    <tr style=\"text-align: right;\">\n",
       "      <th></th>\n",
       "      <th>ID</th>\n",
       "      <th>permwater_pixels</th>\n",
       "      <th>permwater_km2</th>\n",
       "      <th>losswater_pixels</th>\n",
       "      <th>losswater_km2</th>\n",
       "      <th>changewater</th>\n",
       "    </tr>\n",
       "  </thead>\n",
       "  <tbody>\n",
       "    <tr>\n",
       "      <th>0</th>\n",
       "      <td>RUS-RUS</td>\n",
       "      <td>189623.0</td>\n",
       "      <td>1896.23</td>\n",
       "      <td>1145.0</td>\n",
       "      <td>11.45</td>\n",
       "      <td>3.511817</td>\n",
       "    </tr>\n",
       "    <tr>\n",
       "      <th>1</th>\n",
       "      <td>ENG-USA</td>\n",
       "      <td>81705.0</td>\n",
       "      <td>817.05</td>\n",
       "      <td>2960.0</td>\n",
       "      <td>29.60</td>\n",
       "      <td>2.451499</td>\n",
       "    </tr>\n",
       "    <tr>\n",
       "      <th>2</th>\n",
       "      <td>POR-BRA</td>\n",
       "      <td>55294.0</td>\n",
       "      <td>552.94</td>\n",
       "      <td>876.0</td>\n",
       "      <td>8.76</td>\n",
       "      <td>2.190261</td>\n",
       "    </tr>\n",
       "    <tr>\n",
       "      <th>3</th>\n",
       "      <td>ENG-AUS</td>\n",
       "      <td>13438.0</td>\n",
       "      <td>134.38</td>\n",
       "      <td>395.0</td>\n",
       "      <td>3.95</td>\n",
       "      <td>1.530803</td>\n",
       "    </tr>\n",
       "    <tr>\n",
       "      <th>4</th>\n",
       "      <td>CMN-CHN</td>\n",
       "      <td>17872.0</td>\n",
       "      <td>178.72</td>\n",
       "      <td>542.0</td>\n",
       "      <td>5.42</td>\n",
       "      <td>2.867627</td>\n",
       "    </tr>\n",
       "  </tbody>\n",
       "</table>\n",
       "</div>"
      ],
      "text/plain": [
       "        ID  permwater_pixels  permwater_km2  losswater_pixels  losswater_km2  \\\n",
       "0  RUS-RUS          189623.0        1896.23            1145.0          11.45   \n",
       "1  ENG-USA           81705.0         817.05            2960.0          29.60   \n",
       "2  POR-BRA           55294.0         552.94             876.0           8.76   \n",
       "3  ENG-AUS           13438.0         134.38             395.0           3.95   \n",
       "4  CMN-CHN           17872.0         178.72             542.0           5.42   \n",
       "\n",
       "   changewater  \n",
       "0     3.511817  \n",
       "1     2.451499  \n",
       "2     2.190261  \n",
       "3     1.530803  \n",
       "4     2.867627  "
      ]
     },
     "execution_count": 34,
     "metadata": {},
     "output_type": "execute_result"
    }
   ],
   "source": [
    "df_ethnologue = ethnologue[['ID', 'permwater_pixels', 'permwater_km2', 'losswater_pixels', 'losswater_km2', 'changewater']]\n",
    "\n",
    "df_ethnologue.head()"
   ]
  },
  {
   "cell_type": "code",
   "execution_count": 35,
   "id": "515c3eec",
   "metadata": {},
   "outputs": [
    {
     "data": {
      "text/html": [
       "\n",
       "            <style>\n",
       "                .geemap-dark {\n",
       "                    --jp-widgets-color: white;\n",
       "                    --jp-widgets-label-color: white;\n",
       "                    --jp-ui-font-color1: white;\n",
       "                    --jp-layout-color2: #454545;\n",
       "                    background-color: #383838;\n",
       "                }\n",
       "\n",
       "                .geemap-dark .jupyter-button {\n",
       "                    --jp-layout-color3: #383838;\n",
       "                }\n",
       "\n",
       "                .geemap-colab {\n",
       "                    background-color: var(--colab-primary-surface-color, white);\n",
       "                }\n",
       "\n",
       "                .geemap-colab .jupyter-button {\n",
       "                    --jp-layout-color3: var(--colab-primary-surface-color, white);\n",
       "                }\n",
       "            </style>\n",
       "            "
      ],
      "text/plain": [
       "<IPython.core.display.HTML object>"
      ]
     },
     "metadata": {},
     "output_type": "display_data"
    },
    {
     "data": {
      "text/plain": [
       "7087"
      ]
     },
     "execution_count": 35,
     "metadata": {},
     "output_type": "execute_result"
    }
   ],
   "source": [
    "len(df_ethnologue)"
   ]
  },
  {
   "cell_type": "code",
   "execution_count": 36,
   "id": "b6552003",
   "metadata": {},
   "outputs": [
    {
     "data": {
      "text/html": [
       "\n",
       "            <style>\n",
       "                .geemap-dark {\n",
       "                    --jp-widgets-color: white;\n",
       "                    --jp-widgets-label-color: white;\n",
       "                    --jp-ui-font-color1: white;\n",
       "                    --jp-layout-color2: #454545;\n",
       "                    background-color: #383838;\n",
       "                }\n",
       "\n",
       "                .geemap-dark .jupyter-button {\n",
       "                    --jp-layout-color3: #383838;\n",
       "                }\n",
       "\n",
       "                .geemap-colab {\n",
       "                    background-color: var(--colab-primary-surface-color, white);\n",
       "                }\n",
       "\n",
       "                .geemap-colab .jupyter-button {\n",
       "                    --jp-layout-color3: var(--colab-primary-surface-color, white);\n",
       "                }\n",
       "            </style>\n",
       "            "
      ],
      "text/plain": [
       "<IPython.core.display.HTML object>"
      ]
     },
     "metadata": {},
     "output_type": "display_data"
    },
    {
     "name": "stdout",
     "output_type": "stream",
     "text": [
      "Exported df_ethnologue.csv\n"
     ]
    }
   ],
   "source": [
    "# Export to CSV\n",
    "df_ethnologue.to_csv(water_path / \"perm_loss_water.csv\", index=False)\n",
    "\n",
    "print(f\"Exported df_ethnologue.csv\")"
   ]
  }
 ],
 "metadata": {
  "kernelspec": {
   "display_name": "geo",
   "language": "python",
   "name": "python3"
  },
  "language_info": {
   "codemirror_mode": {
    "name": "ipython",
    "version": 3
   },
   "file_extension": ".py",
   "mimetype": "text/x-python",
   "name": "python",
   "nbconvert_exporter": "python",
   "pygments_lexer": "ipython3",
   "version": "3.9.20"
  }
 },
 "nbformat": 4,
 "nbformat_minor": 5
}
