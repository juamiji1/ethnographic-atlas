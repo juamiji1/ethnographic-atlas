{
 "cells": [
  {
   "cell_type": "markdown",
   "id": "521bdbfb",
   "metadata": {},
   "source": [
    "# Calculating HII at the Ethnologue Polygon Level"
   ]
  },
  {
   "cell_type": "code",
   "execution_count": 1,
   "id": "246c31ad",
   "metadata": {},
   "outputs": [],
   "source": [
    "import os\n",
    "from pathlib import Path\n",
    "\n",
    "import pandas as pd\n",
    "import numpy as np\n",
    "import xarray as xr\n",
    "import rioxarray\n",
    "import geopandas as gpd\n",
    "\n",
    "import matplotlib.pyplot as plt\n",
    "import matplotlib.colors as mcolors\n",
    "from matplotlib.patches import Patch\n",
    "import matplotlib.patches as mpatches\n",
    "from matplotlib.font_manager import FontProperties\n",
    "\n",
    "import mapclassify\n",
    "\n",
    "from rapidfuzz import process, fuzz\n",
    "\n",
    "from shapely.geometry import Point\n",
    "\n",
    "import rasterio\n",
    "from rasterio.plot import show\n",
    "from rasterio.mask import mask\n",
    "from rasterstats import zonal_stats"
   ]
  },
  {
   "cell_type": "code",
   "execution_count": 2,
   "id": "08a531a0",
   "metadata": {},
   "outputs": [],
   "source": [
    "# Set base project path\n",
    "base_path = Path(\"C:/Users/juami/Dropbox/RAships/2-Folklore-Nathan-Project/EA-Maps-Nathan-project/Measures_work\")\n",
    "\n",
    "# Set file paths\n",
    "poscol_path = base_path / \"data\" / \"raw\" / \"ethnologue\" / \"ancestral_characteristics_database_language_level\" / \"Ethnologue_16_shapefile\" / \"langa_no_overlap_biggest_clean.shp\"\n",
    "\n",
    "data_path = base_path / \"data\" / \"interim\"\n",
    "maps_path = base_path / \"maps\" / \"raw\"\n",
    "hii_path = maps_path / \"HII\" / \"hii_2001-01-01.tif\""
   ]
  },
  {
   "cell_type": "code",
   "execution_count": 3,
   "id": "d5c53cc0",
   "metadata": {},
   "outputs": [],
   "source": [
    "# Read the shapefiles and CSV files\n",
    "ethnologue = gpd.read_file(poscol_path)\n",
    "ethnologue_proj = ethnologue.to_crs(epsg=6933)\n",
    "\n",
    "hii = rasterio.open(hii_path)\n",
    "ethnologue = ethnologue.to_crs(hii.crs)"
   ]
  },
  {
   "cell_type": "code",
   "execution_count": 4,
   "id": "5d7663ef",
   "metadata": {},
   "outputs": [],
   "source": [
    "# Compute zonal statistics (mean within each polygon)\n",
    "stats = zonal_stats(ethnologue, hii_path, stats=[\"mean\"], geojson_out=True)"
   ]
  },
  {
   "cell_type": "code",
   "execution_count": 5,
   "id": "f45212e3",
   "metadata": {},
   "outputs": [
    {
     "name": "stdout",
     "output_type": "stream",
     "text": [
      "           hii\n",
      "0   455.000700\n",
      "1   843.404400\n",
      "2   471.673553\n",
      "3   356.541696\n",
      "4  1026.041199\n"
     ]
    }
   ],
   "source": [
    "ethnologue_hii = gpd.GeoDataFrame.from_features(stats)\n",
    "ethnologue_hii.rename(columns={\"mean\": \"hii\"}, inplace=True)\n",
    "\n",
    "print(ethnologue_hii[['hii']].head())"
   ]
  },
  {
   "cell_type": "code",
   "execution_count": 6,
   "id": "d8c4eeab",
   "metadata": {},
   "outputs": [
    {
     "name": "stdout",
     "output_type": "stream",
     "text": [
      "Exported ethnologue_hii.csv\n"
     ]
    }
   ],
   "source": [
    "# Keep only relevant columns\n",
    "ethnologue_hii = ethnologue_hii[[\"ID\",\"hii\"]]\n",
    "\n",
    "# Export to CSV\n",
    "ethnologue_hii.to_csv(maps_path / \"HII\" / \"ethnologue_hii.csv\", index=False)\n",
    "\n",
    "print(f\"Exported ethnologue_hii.csv\")"
   ]
  }
 ],
 "metadata": {
  "kernelspec": {
   "display_name": "geo_clean",
   "language": "python",
   "name": "python3"
  },
  "language_info": {
   "codemirror_mode": {
    "name": "ipython",
    "version": 3
   },
   "file_extension": ".py",
   "mimetype": "text/x-python",
   "name": "python",
   "nbconvert_exporter": "python",
   "pygments_lexer": "ipython3",
   "version": "3.11.14"
  }
 },
 "nbformat": 4,
 "nbformat_minor": 5
}
