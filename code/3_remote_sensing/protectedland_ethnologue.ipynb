{
 "cells": [
  {
   "cell_type": "markdown",
   "id": "7f065424",
   "metadata": {},
   "source": [
    "# Calculating Protected areas at the Ethnologue Polygon Level"
   ]
  },
  {
   "cell_type": "code",
   "execution_count": 3,
   "id": "5ca64269",
   "metadata": {},
   "outputs": [],
   "source": [
    "import os\n",
    "from pathlib import Path\n",
    "\n",
    "import pandas as pd\n",
    "import numpy as np\n",
    "import geopandas as gpd\n",
    "\n",
    "import matplotlib.pyplot as plt\n",
    "import matplotlib.colors as mcolors\n",
    "from matplotlib.patches import Patch\n",
    "import matplotlib.patches as mpatches\n",
    "from matplotlib.font_manager import FontProperties\n",
    "\n",
    "import mapclassify\n",
    "\n",
    "from rapidfuzz import process, fuzz\n",
    "\n",
    "from shapely.geometry import Point\n",
    "from shapely.geometry import MultiPolygon\n",
    "\n",
    "import rasterio\n",
    "from rasterio.plot import show\n",
    "from rasterio.mask import mask\n",
    "from rasterstats import zonal_stats\n",
    "from glob import glob\n",
    "from rasterio.merge import merge\n",
    "from rasterio.enums import Resampling\n",
    "from rasterio.io import MemoryFile"
   ]
  },
  {
   "cell_type": "code",
   "execution_count": 4,
   "id": "e10edd7d",
   "metadata": {},
   "outputs": [],
   "source": [
    "# Set base project path\n",
    "base_path = Path(\"C:/Users/juami/Dropbox/RAships/2-Folklore-Nathan-Project/EA-Maps-Nathan-project/Measures_work\")\n",
    "\n",
    "# Set file paths\n",
    "poscol_path = base_path / \"data\" / \"raw\" / \"ethnologue\" / \"ancestral_characteristics_database_language_level\" / \"Ethnologue_16_shapefile\" / \"langa_no_overlap_biggest_clean.shp\"\n",
    "\n",
    "data_path = base_path / \"data\" / \"interim\"\n",
    "maps_path = base_path / \"maps\" / \"raw\"\n",
    "protectedland_path = maps_path / \"Protected_land\""
   ]
  },
  {
   "cell_type": "code",
   "execution_count": 6,
   "id": "419c7323",
   "metadata": {},
   "outputs": [],
   "source": [
    "# Read the shapefiles and CSV files\n",
    "ethnologue = gpd.read_file(poscol_path)\n",
    "ethnologue = ethnologue.to_crs(epsg=6933)\n",
    "ethnologue = ethnologue[[\"ID\", \"geometry\"]]\n",
    "\n",
    "protected0 = gpd.read_file(protectedland_path / \"WDPA_Jun2025_Public_shp_0\" / \"WDPA_Jun2025_Public_shp-polygons.shp\")\n",
    "protected1 = gpd.read_file(protectedland_path / \"WDPA_Jun2025_Public_shp_1\" / \"WDPA_Jun2025_Public_shp-polygons.shp\")   \n",
    "protected2 = gpd.read_file(protectedland_path / \"WDPA_Jun2025_Public_shp_2\" / \"WDPA_Jun2025_Public_shp-polygons.shp\")\n",
    "\n"
   ]
  },
  {
   "cell_type": "code",
   "execution_count": 7,
   "id": "ed9e3bbf",
   "metadata": {},
   "outputs": [],
   "source": [
    "# Combine the three GeoDataFrames\n",
    "protected_all = pd.concat([protected0, protected1, protected2], ignore_index=True)\n",
    "\n",
    "# Ensure it's still a GeoDataFrame\n",
    "protected_all = gpd.GeoDataFrame(protected_all, geometry='geometry', crs=protected0.crs)\n",
    "protected_all = protected_all.to_crs(epsg=6933)"
   ]
  },
  {
   "cell_type": "code",
   "execution_count": 8,
   "id": "ec903adb",
   "metadata": {},
   "outputs": [
    {
     "data": {
      "text/html": [
       "<div>\n",
       "<style scoped>\n",
       "    .dataframe tbody tr th:only-of-type {\n",
       "        vertical-align: middle;\n",
       "    }\n",
       "\n",
       "    .dataframe tbody tr th {\n",
       "        vertical-align: top;\n",
       "    }\n",
       "\n",
       "    .dataframe thead th {\n",
       "        text-align: right;\n",
       "    }\n",
       "</style>\n",
       "<table border=\"1\" class=\"dataframe\">\n",
       "  <thead>\n",
       "    <tr style=\"text-align: right;\">\n",
       "      <th></th>\n",
       "      <th>WDPAID</th>\n",
       "      <th>geometry</th>\n",
       "    </tr>\n",
       "  </thead>\n",
       "  <tbody>\n",
       "    <tr>\n",
       "      <th>0</th>\n",
       "      <td>1.0</td>\n",
       "      <td>POLYGON ((-5.97e+06 2.16e+06, -5.97e+06 2.16e+...</td>\n",
       "    </tr>\n",
       "    <tr>\n",
       "      <th>1</th>\n",
       "      <td>2.0</td>\n",
       "      <td>POLYGON ((-5.96e+06 2.2e+06, -5.96e+06 2.2e+06...</td>\n",
       "    </tr>\n",
       "    <tr>\n",
       "      <th>2</th>\n",
       "      <td>3.0</td>\n",
       "      <td>POLYGON ((-6.37e+06 -2.8e+06, -6.37e+06 -2.8e+...</td>\n",
       "    </tr>\n",
       "    <tr>\n",
       "      <th>3</th>\n",
       "      <td>4.0</td>\n",
       "      <td>POLYGON ((-5.97e+06 -3e+06, -5.97e+06 -3e+06, ...</td>\n",
       "    </tr>\n",
       "    <tr>\n",
       "      <th>4</th>\n",
       "      <td>6.0</td>\n",
       "      <td>POLYGON ((-7.06e+06 -5.55e+06, -7.06e+06 -5.55...</td>\n",
       "    </tr>\n",
       "  </tbody>\n",
       "</table>\n",
       "</div>"
      ],
      "text/plain": [
       "   WDPAID                                           geometry\n",
       "0     1.0  POLYGON ((-5.97e+06 2.16e+06, -5.97e+06 2.16e+...\n",
       "1     2.0  POLYGON ((-5.96e+06 2.2e+06, -5.96e+06 2.2e+06...\n",
       "2     3.0  POLYGON ((-6.37e+06 -2.8e+06, -6.37e+06 -2.8e+...\n",
       "3     4.0  POLYGON ((-5.97e+06 -3e+06, -5.97e+06 -3e+06, ...\n",
       "4     6.0  POLYGON ((-7.06e+06 -5.55e+06, -7.06e+06 -5.55..."
      ]
     },
     "execution_count": 8,
     "metadata": {},
     "output_type": "execute_result"
    }
   ],
   "source": [
    "protected_all=protected_all[['WDPAID', 'geometry']]\n",
    "protected_all.head()"
   ]
  },
  {
   "cell_type": "code",
   "execution_count": 9,
   "id": "0a7dc2ac",
   "metadata": {},
   "outputs": [
    {
     "name": "stderr",
     "output_type": "stream",
     "text": [
      "C:\\Users\\juami\\AppData\\Local\\Temp\\ipykernel_3348\\765946773.py:5: UserWarning: `keep_geom_type=True` in overlay resulted in 70 dropped geometries of different geometry types than df1 has. Set `keep_geom_type=False` to retain all geometries\n",
      "  intersections = gpd.overlay(ethnologue, protected_all, how='intersection')\n"
     ]
    }
   ],
   "source": [
    "# Making sure same CRS\n",
    "ethnologue = ethnologue.to_crs(protected_all.crs)\n",
    "\n",
    "# Keeping intersecting geometries \n",
    "intersections = gpd.overlay(ethnologue, protected_all, how='intersection')\n",
    "\n",
    "# Calculate the area of the intersections in square kilometers\n",
    "intersections['protected_km2'] = intersections.geometry.area / 1e6\n",
    "\n",
    "# Group intersections by Ethnologue ID and sum the protected areas\n",
    "protected_by_ethno = intersections.groupby('ID', as_index=False)['protected_km2'].sum()\n",
    "\n",
    "#Merging to original\n",
    "ethnologue_protectedland = ethnologue.merge(protected_by_ethno, on='ID', how='left')\n",
    "ethnologue_protectedland['protected_km2'] = ethnologue_protectedland['protected_km2'].fillna(0)"
   ]
  },
  {
   "cell_type": "code",
   "execution_count": 10,
   "id": "c32704cd",
   "metadata": {},
   "outputs": [
    {
     "data": {
      "text/html": [
       "<div>\n",
       "<style scoped>\n",
       "    .dataframe tbody tr th:only-of-type {\n",
       "        vertical-align: middle;\n",
       "    }\n",
       "\n",
       "    .dataframe tbody tr th {\n",
       "        vertical-align: top;\n",
       "    }\n",
       "\n",
       "    .dataframe thead th {\n",
       "        text-align: right;\n",
       "    }\n",
       "</style>\n",
       "<table border=\"1\" class=\"dataframe\">\n",
       "  <thead>\n",
       "    <tr style=\"text-align: right;\">\n",
       "      <th></th>\n",
       "      <th>ID</th>\n",
       "      <th>geometry</th>\n",
       "      <th>protected_km2</th>\n",
       "    </tr>\n",
       "  </thead>\n",
       "  <tbody>\n",
       "    <tr>\n",
       "      <th>0</th>\n",
       "      <td>RUS-RUS</td>\n",
       "      <td>MULTIPOLYGON (((4.35e+06 5.01e+06, 4.35e+06 5....</td>\n",
       "      <td>6.923853e+05</td>\n",
       "    </tr>\n",
       "    <tr>\n",
       "      <th>1</th>\n",
       "      <td>ENG-USA</td>\n",
       "      <td>MULTIPOLYGON (((-7.25e+06 2.5e+06, -7.25e+06 2...</td>\n",
       "      <td>7.824268e+05</td>\n",
       "    </tr>\n",
       "    <tr>\n",
       "      <th>2</th>\n",
       "      <td>POR-BRA</td>\n",
       "      <td>MULTIPOLYGON (((-5.03e+06 -3.88e+06, -5.03e+06...</td>\n",
       "      <td>1.824773e+06</td>\n",
       "    </tr>\n",
       "    <tr>\n",
       "      <th>3</th>\n",
       "      <td>ENG-AUS</td>\n",
       "      <td>MULTIPOLYGON (((1.42e+07 -5e+06, 1.42e+07 -5e+...</td>\n",
       "      <td>5.459749e+05</td>\n",
       "    </tr>\n",
       "    <tr>\n",
       "      <th>4</th>\n",
       "      <td>CMN-CHN</td>\n",
       "      <td>MULTIPOLYGON (((1.05e+07 2.39e+06, 1.05e+07 2....</td>\n",
       "      <td>3.524290e+04</td>\n",
       "    </tr>\n",
       "  </tbody>\n",
       "</table>\n",
       "</div>"
      ],
      "text/plain": [
       "        ID                                           geometry  protected_km2\n",
       "0  RUS-RUS  MULTIPOLYGON (((4.35e+06 5.01e+06, 4.35e+06 5....   6.923853e+05\n",
       "1  ENG-USA  MULTIPOLYGON (((-7.25e+06 2.5e+06, -7.25e+06 2...   7.824268e+05\n",
       "2  POR-BRA  MULTIPOLYGON (((-5.03e+06 -3.88e+06, -5.03e+06...   1.824773e+06\n",
       "3  ENG-AUS  MULTIPOLYGON (((1.42e+07 -5e+06, 1.42e+07 -5e+...   5.459749e+05\n",
       "4  CMN-CHN  MULTIPOLYGON (((1.05e+07 2.39e+06, 1.05e+07 2....   3.524290e+04"
      ]
     },
     "execution_count": 10,
     "metadata": {},
     "output_type": "execute_result"
    }
   ],
   "source": [
    "ethnologue_protectedland.head()"
   ]
  },
  {
   "cell_type": "code",
   "execution_count": 11,
   "id": "41eedcd7",
   "metadata": {},
   "outputs": [
    {
     "name": "stdout",
     "output_type": "stream",
     "text": [
      "Exported ethnologue_wdpa.csv\n"
     ]
    }
   ],
   "source": [
    "# Keep only relevant columns\n",
    "ethnologue_protectedarea = ethnologue_protectedland[[\"ID\", \"protected_km2\"]]\n",
    "\n",
    "# Export to CSV\n",
    "ethnologue_protectedarea.to_csv(protectedland_path / \"ethnologue_wdpa.csv\", index=False)\n",
    "\n",
    "print(f\"Exported ethnologue_wdpa.csv\")"
   ]
  }
 ],
 "metadata": {
  "kernelspec": {
   "display_name": "geo",
   "language": "python",
   "name": "python3"
  },
  "language_info": {
   "codemirror_mode": {
    "name": "ipython",
    "version": 3
   },
   "file_extension": ".py",
   "mimetype": "text/x-python",
   "name": "python",
   "nbconvert_exporter": "python",
   "pygments_lexer": "ipython3",
   "version": "3.9.20"
  }
 },
 "nbformat": 4,
 "nbformat_minor": 5
}
