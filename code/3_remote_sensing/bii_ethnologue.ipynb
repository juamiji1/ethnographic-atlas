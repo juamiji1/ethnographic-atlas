{
 "cells": [
  {
   "cell_type": "markdown",
   "id": "25f29fb0",
   "metadata": {},
   "source": [
    "# Calculating BII at the Ethnologue Polygon Level"
   ]
  },
  {
   "cell_type": "code",
   "execution_count": 9,
   "id": "d4510bde",
   "metadata": {},
   "outputs": [],
   "source": [
    "import os\n",
    "from pathlib import Path\n",
    "\n",
    "import pandas as pd\n",
    "import numpy as np\n",
    "import geopandas as gpd\n",
    "\n",
    "import matplotlib.pyplot as plt\n",
    "import matplotlib.colors as mcolors\n",
    "from matplotlib.patches import Patch\n",
    "import matplotlib.patches as mpatches\n",
    "from matplotlib.font_manager import FontProperties\n",
    "\n",
    "import mapclassify\n",
    "\n",
    "from rapidfuzz import process, fuzz\n",
    "\n",
    "from shapely.geometry import Point\n",
    "\n",
    "import rasterio\n",
    "from rasterio.plot import show\n",
    "from rasterio.mask import mask\n",
    "from rasterstats import zonal_stats"
   ]
  },
  {
   "cell_type": "code",
   "execution_count": 10,
   "id": "2942ad64",
   "metadata": {},
   "outputs": [],
   "source": [
    "# Set base project path\n",
    "base_path = Path(\"C:/Users/juami/Dropbox/RAships/2-Folklore-Nathan-Project/EA-Maps-Nathan-project/Measures_work\")\n",
    "\n",
    "# Set file paths\n",
    "poscol_path = base_path / \"data\" / \"raw\" / \"ethnologue\" / \"ancestral_characteristics_database_language_level\" / \"Ethnologue_16_shapefile\" / \"langa_no_overlap_biggest_clean.shp\"\n",
    "\n",
    "data_path = base_path / \"data\" / \"interim\"\n",
    "maps_path = base_path / \"maps\" / \"raw\"\n",
    "bii_path = maps_path / \"BII\" / \"bii-2020_v2-1-1.tif\""
   ]
  },
  {
   "cell_type": "code",
   "execution_count": 11,
   "id": "abe7ac31",
   "metadata": {},
   "outputs": [],
   "source": [
    "# Read the shapefiles and CSV files\n",
    "ethnologue = gpd.read_file(poscol_path)\n",
    "bii20 = rasterio.open(bii_path)\n",
    "\n",
    "ethnologue = ethnologue.to_crs(bii20.crs)"
   ]
  },
  {
   "cell_type": "code",
   "execution_count": 12,
   "id": "304efea5",
   "metadata": {},
   "outputs": [
    {
     "name": "stderr",
     "output_type": "stream",
     "text": [
      "C:\\Users\\juami\\AppData\\Local\\Temp\\ipykernel_3204\\1467359967.py:2: UserWarning: Geometry is in a geographic CRS. Results from 'area' are likely incorrect. Use 'GeoSeries.to_crs()' to re-project geometries to a projected CRS before this operation.\n",
      "\n",
      "  ethnologue['area_km2'] = ethnologue.geometry.area / 1e6\n"
     ]
    }
   ],
   "source": [
    "# Compute area of each polygon\n",
    "ethnologue['area_km2'] = ethnologue.geometry.area / 1e6\n",
    "\n",
    "# Merging area back to original dataframe\n",
    "ethnologue['area_km2'] = ethnologue['area_km2']"
   ]
  },
  {
   "cell_type": "code",
   "execution_count": 13,
   "id": "ae7a89a6",
   "metadata": {},
   "outputs": [],
   "source": [
    "# Compute zonal statistics (mean within each polygon)\n",
    "stats = zonal_stats(ethnologue, bii_path, stats=[\"mean\"], geojson_out=True)"
   ]
  },
  {
   "cell_type": "code",
   "execution_count": 14,
   "id": "d0cd32ae",
   "metadata": {},
   "outputs": [
    {
     "name": "stdout",
     "output_type": "stream",
     "text": [
      "         bii\n",
      "0  60.280536\n",
      "1  44.632869\n",
      "2  59.676080\n",
      "3  46.753735\n",
      "4  45.162215\n"
     ]
    }
   ],
   "source": [
    "ethnologue_bii = gpd.GeoDataFrame.from_features(stats)\n",
    "ethnologue_bii.rename(columns={\"mean\": \"bii\"}, inplace=True)\n",
    "\n",
    "print(ethnologue_bii[['bii']].head())"
   ]
  },
  {
   "cell_type": "code",
   "execution_count": 15,
   "id": "12980f50",
   "metadata": {},
   "outputs": [
    {
     "name": "stdout",
     "output_type": "stream",
     "text": [
      "Exported ethnologue_bii.csv\n"
     ]
    }
   ],
   "source": [
    "# Keep only relevant columns\n",
    "ethnologue_bii = ethnologue_bii[[\"ID\",\"area_km2\",\"bii\"]]\n",
    "\n",
    "# Export to CSV\n",
    "ethnologue_bii.to_csv(maps_path / \"BII\" / \"ethnologue_bii.csv\", index=False)\n",
    "\n",
    "print(f\"Exported ethnologue_bii.csv\")"
   ]
  }
 ],
 "metadata": {
  "kernelspec": {
   "display_name": "geo",
   "language": "python",
   "name": "python3"
  },
  "language_info": {
   "codemirror_mode": {
    "name": "ipython",
    "version": 3
   },
   "file_extension": ".py",
   "mimetype": "text/x-python",
   "name": "python",
   "nbconvert_exporter": "python",
   "pygments_lexer": "ipython3",
   "version": "3.9.20"
  }
 },
 "nbformat": 4,
 "nbformat_minor": 5
}
