{
 "cells": [
  {
   "cell_type": "markdown",
   "id": "dbc324da",
   "metadata": {},
   "source": [
    "# Calculating Koppen-Geiger Climatic zones"
   ]
  },
  {
   "cell_type": "code",
   "execution_count": 1,
   "id": "abe1ca79",
   "metadata": {},
   "outputs": [],
   "source": [
    "import os\n",
    "from pathlib import Path\n",
    "\n",
    "import pandas as pd\n",
    "import numpy as np\n",
    "import xarray as xr\n",
    "import rioxarray\n",
    "import geopandas as gpd\n",
    "\n",
    "import matplotlib.pyplot as plt\n",
    "import matplotlib.colors as mcolors\n",
    "from matplotlib.patches import Patch\n",
    "import matplotlib.patches as mpatches\n",
    "from matplotlib.font_manager import FontProperties\n",
    "\n",
    "import mapclassify\n",
    "\n",
    "from rapidfuzz import process, fuzz\n",
    "\n",
    "from shapely.geometry import Point\n",
    "\n",
    "import rasterio\n",
    "from rasterio.plot import show\n",
    "from rasterio.mask import mask\n",
    "from rasterstats import zonal_stats"
   ]
  },
  {
   "cell_type": "code",
   "execution_count": 2,
   "id": "085f1f8e",
   "metadata": {},
   "outputs": [],
   "source": [
    "# Set base project path\n",
    "base_path = Path(\"C:/Users/juami/Dropbox/RAships/2-Folklore-Nathan-Project/EA-Maps-Nathan-project/Measures_work\")\n",
    "\n",
    "# Set file paths\n",
    "poscol_path = base_path / \"data\" / \"raw\" / \"ethnologue\" / \"ancestral_characteristics_database_language_level\" / \"Ethnologue_16_shapefile\" / \"langa_no_overlap_biggest_clean.shp\"\n",
    "KG_path = base_path / \"maps\" / \"raw\" / \"KG_climatic_zones\" / \"Koppen_geiger_shp\" / \"Koppen_geiger_climzones.shp\""
   ]
  },
  {
   "cell_type": "code",
   "execution_count": 3,
   "id": "b9060568",
   "metadata": {},
   "outputs": [
    {
     "name": "stdout",
     "output_type": "stream",
     "text": [
      "EPSG:6933\n",
      "EPSG:6933\n"
     ]
    }
   ],
   "source": [
    "# Read the shapefiles and CSV files\n",
    "ethnologue = gpd.read_file(poscol_path)\n",
    "ethnologue = ethnologue.to_crs(epsg=6933)\n",
    "\n",
    "KGzones = gpd.read_file(KG_path)\n",
    "KGzones = KGzones.to_crs(epsg=6933)\n",
    "\n",
    "print(ethnologue.crs)\n",
    "print(KGzones.crs)"
   ]
  },
  {
   "cell_type": "code",
   "execution_count": 4,
   "id": "a5c2eb2e",
   "metadata": {},
   "outputs": [
    {
     "name": "stdout",
     "output_type": "stream",
     "text": [
      "Index(['FID_langa', 'ID', 'ID_ISO_A3', 'ID_ISO_A2', 'ID_FIPS', 'NAM_LABEL',\n",
      "       'NAME_PROP', 'NAME2', 'NAM_ANSI', 'CNT', 'C1', 'POP', 'LMP_POP1', 'G',\n",
      "       'LMP_CLASS', 'FAMILYPROP', 'FAMILY', 'LMP_C1', 'CODE', 'ID_lang',\n",
      "       'Shape_Leng', 'Shape_Area', 'Area', 'geometry'],\n",
      "      dtype='object')\n",
      "Index(['Id', 'gridcode', 'Shape_Leng', 'Shape_Area', 'geometry'], dtype='object')\n"
     ]
    }
   ],
   "source": [
    "print(ethnologue.columns)\n",
    "print(KGzones.columns)"
   ]
  },
  {
   "cell_type": "code",
   "execution_count": 10,
   "id": "4e5bb950",
   "metadata": {},
   "outputs": [
    {
     "name": "stdout",
     "output_type": "stream",
     "text": [
      "KGzones original CRS: EPSG:6933\n",
      "20996 cleaned input features -> 30 dissolved features\n",
      "Index(['gridcode', 'geometry', 'Id', 'Shape_Area', 'Shape_Leng', 'area_m2',\n",
      "       'area_km2', 'perimeter_m'],\n",
      "      dtype='object')\n"
     ]
    }
   ],
   "source": [
    "from shapely import make_valid\n",
    "from shapely.validation import explain_validity\n",
    "\n",
    "# --- 0) (Important) Make sure CRS is correct BEFORE reprojecting\n",
    "print(\"KGzones original CRS:\", KGzones.crs)\n",
    "# If KGzones.crs is None but you *know* the source CRS, set it here:\n",
    "# KGzones = KGzones.set_crs(\"EPSG:4326\")  # example, change if needed\n",
    "\n",
    "# --- 1) Reproject (only after CRS is correct)\n",
    "KGzones = KGzones.to_crs(6933)\n",
    "\n",
    "# --- 2) Drop null/empty and obviously bad bounds (NaN/Inf)\n",
    "KGzones = KGzones[KGzones.geometry.notnull()].copy()\n",
    "KGzones = KGzones[~KGzones.geometry.is_empty].copy()\n",
    "\n",
    "b = KGzones.bounds  # minx, miny, maxx, maxy\n",
    "finite_mask = np.isfinite(b).all(axis=1)\n",
    "KGzones = KGzones[finite_mask].copy()\n",
    "\n",
    "# --- 3) Force 2D (just in case there are Z/Ms)\n",
    "try:\n",
    "    from shapely import force_2d  # shapely>=2.0\n",
    "    KGzones[\"geometry\"] = KGzones.geometry.apply(force_2d)\n",
    "except Exception:\n",
    "    # If not available, you can skip; most cases work without this.\n",
    "    pass\n",
    "\n",
    "# --- 4) Fix invalid geometries\n",
    "# First attempt: make_valid\n",
    "KGzones[\"geometry\"] = KGzones.geometry.apply(make_valid)\n",
    "\n",
    "# Second attempt (only where still invalid): tiny buffer(0)\n",
    "invalid_mask = ~KGzones.is_valid\n",
    "if invalid_mask.any():\n",
    "    KGzones.loc[invalid_mask, \"geometry\"] = KGzones.loc[invalid_mask, \"geometry\"].buffer(0)\n",
    "\n",
    "# Drop anything still invalid or empty after fixes\n",
    "KGzones = KGzones[KGzones.geometry.notnull()].copy()\n",
    "KGzones = KGzones[~KGzones.geometry.is_empty].copy()\n",
    "KGzones = KGzones[KGzones.is_valid].copy()\n",
    "\n",
    "# (Optional) Inspect what was wrong, if you’re curious:\n",
    "# bad = KGzones.loc[~KGzones.is_valid, \"geometry\"].apply(explain_validity)\n",
    "# print(bad.value_counts().head())\n",
    "\n",
    "# --- 5) Dissolve by 'gridcode'\n",
    "# If your GeoPandas supports aggfunc in dissolve:\n",
    "KGzones_diss = KGzones.dissolve(\n",
    "    by=\"gridcode\",\n",
    "    as_index=False,\n",
    "    aggfunc={\n",
    "        \"Id\": \"first\",\n",
    "        \"Shape_Area\": \"sum\",\n",
    "        \"Shape_Leng\": \"sum\",\n",
    "    },\n",
    ")\n",
    "\n",
    "# --- 6) Recompute area/length from geometry (more reliable)\n",
    "KGzones_diss[\"area_m2\"] = KGzones_diss.geometry.area\n",
    "KGzones_diss[\"area_km2\"] = KGzones_diss[\"area_m2\"] / 1e6\n",
    "KGzones_diss[\"perimeter_m\"] = KGzones_diss.geometry.length\n",
    "\n",
    "print(f\"{len(KGzones)} cleaned input features -> {len(KGzones_diss)} dissolved features\")\n",
    "print(KGzones_diss.columns)\n"
   ]
  },
  {
   "cell_type": "code",
   "execution_count": 11,
   "id": "9b66815e",
   "metadata": {},
   "outputs": [
    {
     "name": "stdout",
     "output_type": "stream",
     "text": [
      "   FID_langa       ID ID_ISO_A3 ID_ISO_A2 ID_FIPS         NAM_LABEL  \\\n",
      "0          1  RUS-RUS   rus-RUS    rus-ru  rus-RS           Russian   \n",
      "1          2  ENG-USA   eng-USA    eng-us  eng-US           English   \n",
      "2          3  POR-BRA   por-BRA    por-br  por-BR        Portuguese   \n",
      "3          4  ENG-AUS   eng-AUS    eng-au  eng-AS           English   \n",
      "4          5  CMN-CHN   cmn-CHN    cmn-cn  cmn-CH  Mandarin Chinese   \n",
      "\n",
      "           NAME_PROP              NAME2           NAM_ANSI       CNT  ...  \\\n",
      "0            Russian            RUSSIAN            Russian    Europe  ...   \n",
      "1            English            ENGLISH            English  Americas  ...   \n",
      "2         Portuguese         PORTUGUESE         Portuguese  Americas  ...   \n",
      "3            English            ENGLISH            English   Pacific  ...   \n",
      "4  Chinese, Mandarin  CHINESE, MANDARIN  Chinese, Mandarin      Asia  ...   \n",
      "\n",
      "  share_gc_21 share_gc_22  share_gc_23 share_gc_24 share_gc_25 share_gc_26  \\\n",
      "0    0.002891    0.059185     0.111040    0.000595    0.023495    0.341825   \n",
      "1    0.003925    0.002545     0.000133    0.000000    0.166704    0.133272   \n",
      "2    0.000000    0.000000     0.000000    0.000000    0.000000    0.000000   \n",
      "3    0.000000    0.000000     0.000000    0.000000    0.000000    0.000055   \n",
      "4    0.172864    0.126238     0.042682    0.000000    0.000012    0.000198   \n",
      "\n",
      "  share_gc_27 share_gc_28 share_gc_29   share_gc_30  \n",
      "0    0.384159    0.000259    0.007141  2.663292e-07  \n",
      "1    0.028853    0.000000    0.005775  0.000000e+00  \n",
      "2    0.000000    0.000000    0.000000  0.000000e+00  \n",
      "3    0.000111    0.000000    0.000000  0.000000e+00  \n",
      "4    0.000000    0.000000    0.015772  0.000000e+00  \n",
      "\n",
      "[5 rows x 54 columns]\n"
     ]
    }
   ],
   "source": [
    "# Fix invalid/empty\n",
    "ethnologue['geometry'] = ethnologue.geometry.apply(make_valid)\n",
    "\n",
    "eth = ethnologue.copy()\n",
    "kg  = KGzones_diss.copy()\n",
    "\n",
    "eth = eth[eth.geometry.notnull() & ~eth.geometry.is_empty].copy()\n",
    "kg  = kg[kg.geometry.notnull() & ~kg.geometry.is_empty].copy()\n",
    "\n",
    "# --- 1) Precompute Ethnologue polygon areas (denominator)\n",
    "eth['area_m2'] = eth.geometry.area\n",
    "\n",
    "# --- 2) Overlay (intersection) to get Ethnologue × KG overlaps\n",
    "over = gpd.overlay(eth[['ID', 'geometry']], kg[['gridcode', 'geometry']],\n",
    "                   how='intersection', keep_geom_type=False)\n",
    "\n",
    "# Drop empties just in case\n",
    "over = over[over.geometry.notnull() & ~over.geometry.is_empty].copy()\n",
    "\n",
    "# --- 3) Overlap area per (ID, gridcode)\n",
    "over['overlap_m2'] = over.geometry.area\n",
    "g = (over.groupby(['ID', 'gridcode'], as_index=False)['overlap_m2']\n",
    "         .sum())\n",
    "\n",
    "# --- 4) Convert to shares by dividing by each Ethnologue polygon’s area\n",
    "eth_area = eth.set_index('ID')['area_m2']\n",
    "g['eth_area_m2'] = g['ID'].map(eth_area)\n",
    "g['share'] = np.where(g['eth_area_m2'] > 0, g['overlap_m2'] / g['eth_area_m2'], 0.0)\n",
    "\n",
    "# --- 5) Pivot to wide (one column per gridcode)\n",
    "# Ensure all 30 gridcodes appear as columns even if missing for some IDs\n",
    "all_codes = np.sort(kg['gridcode'].unique())\n",
    "shares_wide = (g.pivot(index='ID', columns='gridcode', values='share')\n",
    "                 .reindex(columns=all_codes, fill_value=0.0))\n",
    "\n",
    "# Optional: make friendly column names like share_gc_<code>\n",
    "shares_wide.columns = [f\"share_gc_{int(c) if float(c).is_integer() else str(c)}\"\n",
    "                       for c in shares_wide.columns]\n",
    "\n",
    "# --- 6) Merge back to Ethnologue\n",
    "eth_out = eth.drop(columns=['area_m2']).merge(shares_wide, on='ID', how='left')\n",
    "\n",
    "# Fill NaN shares (IDs with zero overlap with KG zones) with 0\n",
    "share_cols = [c for c in eth_out.columns if c.startswith('share_gc_')]\n",
    "eth_out[share_cols] = eth_out[share_cols].fillna(0.0)\n",
    "\n",
    "print(eth_out.head())"
   ]
  },
  {
   "cell_type": "code",
   "execution_count": 12,
   "id": "c3554423",
   "metadata": {},
   "outputs": [],
   "source": [
    "# --- Keep only ID + share columns\n",
    "cols_to_keep = ['ID'] + [c for c in eth_out.columns if c.startswith('share_gc_')]\n",
    "eth_shares = eth_out[cols_to_keep].copy()\n",
    "\n",
    "# --- Export to CSV\n",
    "eth_shares.to_csv(base_path / \"maps\" / \"raw\" / \"KG_climatic_zones\" / \"ethnologue_KGshares.csv\", index=False)"
   ]
  }
 ],
 "metadata": {
  "kernelspec": {
   "display_name": "geo_clean",
   "language": "python",
   "name": "python3"
  },
  "language_info": {
   "codemirror_mode": {
    "name": "ipython",
    "version": 3
   },
   "file_extension": ".py",
   "mimetype": "text/x-python",
   "name": "python",
   "nbconvert_exporter": "python",
   "pygments_lexer": "ipython3",
   "version": "3.11.14"
  }
 },
 "nbformat": 4,
 "nbformat_minor": 5
}
