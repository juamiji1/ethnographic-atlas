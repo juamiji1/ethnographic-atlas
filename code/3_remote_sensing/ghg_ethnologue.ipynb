{
 "cells": [
  {
   "cell_type": "markdown",
   "id": "7f0aff7d",
   "metadata": {},
   "source": [
    "# Calculating GHG at the Ethnologue Polygon Level"
   ]
  },
  {
   "cell_type": "code",
   "execution_count": 8,
   "id": "64540ed2",
   "metadata": {},
   "outputs": [],
   "source": [
    "import os\n",
    "from pathlib import Path\n",
    "\n",
    "import pandas as pd\n",
    "import numpy as np\n",
    "import xarray as xr\n",
    "import rioxarray\n",
    "import geopandas as gpd\n",
    "\n",
    "import matplotlib.pyplot as plt\n",
    "import matplotlib.colors as mcolors\n",
    "from matplotlib.patches import Patch\n",
    "import matplotlib.patches as mpatches\n",
    "from matplotlib.font_manager import FontProperties\n",
    "\n",
    "import mapclassify\n",
    "\n",
    "from rapidfuzz import process, fuzz\n",
    "\n",
    "from shapely.geometry import Point\n",
    "\n",
    "import rasterio\n",
    "from rasterio.plot import show\n",
    "from rasterio.mask import mask\n",
    "from rasterstats import zonal_stats"
   ]
  },
  {
   "cell_type": "code",
   "execution_count": 9,
   "id": "8e224ffb",
   "metadata": {},
   "outputs": [],
   "source": [
    "# Set base project path\n",
    "base_path = Path(\"C:/Users/juami/Dropbox/RAships/2-Folklore-Nathan-Project/EA-Maps-Nathan-project/Measures_work\")\n",
    "\n",
    "# Set file paths\n",
    "poscol_path = base_path / \"data\" / \"raw\" / \"ethnologue\" / \"ancestral_characteristics_database_language_level\" / \"Ethnologue_16_shapefile\" / \"langa_no_overlap_biggest_clean.shp\"\n",
    "\n",
    "data_path = base_path / \"data\" / \"interim\"\n",
    "maps_path = base_path / \"maps\" / \"raw\"\n",
    "ghg_path = maps_path / \"CO2\" / \"EDGAR_2025_GHG_CO2_2000_TOTALS_flx.nc\""
   ]
  },
  {
   "cell_type": "code",
   "execution_count": 10,
   "id": "f8ebefdf",
   "metadata": {},
   "outputs": [
    {
     "name": "stdout",
     "output_type": "stream",
     "text": [
      "<xarray.Dataset> Size: 26MB\n",
      "Dimensions:  (lat: 1800, lon: 3600)\n",
      "Coordinates:\n",
      "  * lat      (lat) float64 14kB -89.95 -89.85 -89.75 ... 89.75 89.85 89.95\n",
      "  * lon      (lon) float64 29kB -179.9 -179.8 -179.8 ... 179.8 179.8 179.9\n",
      "Data variables:\n",
      "    fluxes   (lat, lon) float32 26MB ...\n",
      "Attributes:\n",
      "    description:       TOTALS\n",
      "    institution:       European Commission, Joint Research Centre\n",
      "    source:            https://edgar.jrc.ec.europa.eu/dataset_ghg2025\n",
      "    how_to_cite:       https://edgar.jrc.ec.europa.eu/dataset_ghg2025#howtocite\n",
      "    copyright_notice:  https://edgar.jrc.ec.europa.eu/dataset_ghg2025#conditions\n",
      "    contacts:          https://edgar.jrc.ec.europa.eu/dataset_ghg2025#info JR...\n",
      "    units:             kg m-2 s-1\n"
     ]
    }
   ],
   "source": [
    "import xarray as xr\n",
    "\n",
    "ghg_path = maps_path / \"CO2\" / \"EDGAR_2025_GHG_CO2_2000_TOTALS_flx.nc\"\n",
    "ds = xr.open_dataset(ghg_path)\n",
    "print(ds)\n"
   ]
  },
  {
   "cell_type": "code",
   "execution_count": 11,
   "id": "ce031bf6",
   "metadata": {},
   "outputs": [
    {
     "name": "stdout",
     "output_type": "stream",
     "text": [
      "Vars: ['fluxes']\n"
     ]
    }
   ],
   "source": [
    "print(\"Vars:\", list(ds.data_vars))"
   ]
  },
  {
   "cell_type": "code",
   "execution_count": 12,
   "id": "1aa5b173",
   "metadata": {},
   "outputs": [
    {
     "name": "stdout",
     "output_type": "stream",
     "text": [
      "attrs: {'global_total': '25.69Gt', 'substance': 'CO2', 'year': '2000', 'release': 'EDGAR_2025_GHG', 'long_name': 'TOTALS', 'description': 'TOTALS', 'ChunkSizes': array([   1, 1800, 3600], dtype=int64), 'units': 'kg m-2 s-1'}\n"
     ]
    }
   ],
   "source": [
    "# --- Open and inspect ---\n",
    "ds = xr.open_dataset(str(ghg_path), engine=\"netcdf4\", decode_times=False)\n",
    "da = ds[\"fluxes\"]  # likely units: kg m-2 s-1 (check below)\n",
    "print(\"attrs:\", da.attrs)\n",
    "\n",
    "# Ensure spatial dims are named and CRS is WGS84\n",
    "da = da.rename({\"lon\":\"lon\", \"lat\":\"lat\"})  # no-op if already correct\n",
    "da = da.rio.set_spatial_dims(x_dim=\"lon\", y_dim=\"lat\")\n",
    "da = da.rio.write_crs(\"EPSG:4326\")\n",
    "\n",
    "# --- Build per-pixel area on the sphere (m^2) from lat/lon edges ---\n",
    "# Derive grid spacing in degrees\n",
    "dlat = float(np.abs(np.diff(da[\"lat\"].values).mean()))\n",
    "dlon = float(np.abs(np.diff(da[\"lon\"].values).mean()))\n",
    "\n",
    "# Construct latitude edges (center +/- dlat/2), clipped to [-90, 90]\n",
    "lat_c = da[\"lat\"].values\n",
    "lon_c = da[\"lon\"].values\n",
    "lat_edges = np.empty(lat_c.size + 1)\n",
    "lat_edges[1:-1] = 0.5 * (lat_c[:-1] + lat_c[1:])\n",
    "lat_edges[0] = lat_c[0] - dlat/2\n",
    "lat_edges[-1] = lat_c[-1] + dlat/2\n",
    "lat_edges = np.clip(lat_edges, -90.0, 90.0)\n",
    "\n",
    "# Radians\n",
    "deg2rad = np.pi / 180.0\n",
    "lat_edges_rad = lat_edges * deg2rad\n",
    "dlon_rad = dlon * deg2rad\n",
    "\n",
    "# Earth radius (WGS84 mean)\n",
    "R = 6371008.8\n",
    "\n",
    "# Pixel area formula: A = R^2 * dlon * (sin(lat2) - sin(lat1))\n",
    "# Make a 2D area array (lat x lon)\n",
    "sin_lat2 = np.sin(lat_edges_rad[1:])[:, None]  # (nlat, 1)\n",
    "sin_lat1 = np.sin(lat_edges_rad[:-1])[:, None] # (nlat, 1)\n",
    "area_lat_strip = (R**2) * dlon_rad * (sin_lat2 - sin_lat1)  # (nlat, 1)\n",
    "area = np.repeat(area_lat_strip, len(lon_c), axis=1)        # (nlat, nlon)\n",
    "\n",
    "area_da = xr.DataArray(\n",
    "    area,\n",
    "    coords={\"lat\": da[\"lat\"], \"lon\": da[\"lon\"]},\n",
    "    dims=(\"lat\", \"lon\"),\n",
    "    name=\"cell_area_m2\"\n",
    ")\n",
    "\n",
    "# --- Convert flux (kg m-2 s-1) to tonnes per year per cell ---\n",
    "# If your attrs say something different, adjust this step accordingly.\n",
    "seconds_per_year = 365 * 24 * 3600  # 31,536,000; use 366 for leap years if needed\n",
    "emi_kg_per_year = da * area_da * seconds_per_year\n",
    "emi_tonnes_per_year = (emi_kg_per_year / 1000.0).rio.write_crs(\"EPSG:4326\")\n",
    "emi_tonnes_per_year.name = \"CO2_tpy\"\n",
    "\n"
   ]
  },
  {
   "cell_type": "code",
   "execution_count": null,
   "id": "009d143d",
   "metadata": {},
   "outputs": [],
   "source": [
    "# --- Write a GeoTIFF so we can use zonal_stats easily ---\n",
    "# rioxarray knows the transform from coords once dims & CRS are set.\n",
    "tif_path = Path(maps_path) / \"CO2\" / \"EDGAR_2000_CO2_tpy_WGS84.tif\"\n",
    "emi_tonnes_per_year.rio.to_raster(tif_path)\n",
    "\n",
    "# --- Read polygons (project to WGS84 to match the raster) ---\n",
    "ethno = gpd.read_file(poscol_path).to_crs(\"EPSG:4326\")\n",
    "\n",
    "# --- Zonal sum (total tonnes/year per polygon) ---\n",
    "zs = zonal_stats(\n",
    "    ethno, str(tif_path),\n",
    "    stats=[\"sum\", \"mean\", \"count\"],\n",
    "    geojson_out=False,\n",
    "    nodata=None\n",
    ")\n",
    "\n",
    "# Attach results back to your GeoDataFrame\n",
    "ethno[\"CO2_tpy_sum\"] = [z[\"sum\"] for z in zs]\n",
    "ethno[\"CO2_tpy_mean\"] = [z[\"mean\"] for z in zs]\n",
    "ethno[\"n_pixels\"] = [z[\"count\"] for z in zs]\n",
    "\n",
    "# Save if you want\n",
    "out_path = Path(maps_path) / \"CO2\" / \"ethnologue_CO2_2000_tpy.geojson\"\n",
    "ethno.to_file(out_path, driver=\"GeoJSON\")\n",
    "print(\"Done ->\", out_path)\n"
   ]
  }
 ],
 "metadata": {
  "kernelspec": {
   "display_name": "geo",
   "language": "python",
   "name": "python3"
  },
  "language_info": {
   "codemirror_mode": {
    "name": "ipython",
    "version": 3
   },
   "file_extension": ".py",
   "mimetype": "text/x-python",
   "name": "python",
   "nbconvert_exporter": "python",
   "pygments_lexer": "ipython3",
   "version": "3.9.20"
  }
 },
 "nbformat": 4,
 "nbformat_minor": 5
}
