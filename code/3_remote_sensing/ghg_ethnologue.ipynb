{
 "cells": [
  {
   "cell_type": "markdown",
   "id": "7f0aff7d",
   "metadata": {},
   "source": [
    "# Calculating GHG at the Ethnologue Polygon Level"
   ]
  },
  {
   "cell_type": "code",
   "execution_count": 18,
   "id": "64540ed2",
   "metadata": {},
   "outputs": [],
   "source": [
    "import os\n",
    "from pathlib import Path\n",
    "\n",
    "import pandas as pd\n",
    "import numpy as np\n",
    "import xarray as xr\n",
    "import rioxarray\n",
    "import geopandas as gpd\n",
    "\n",
    "import matplotlib.pyplot as plt\n",
    "import matplotlib.colors as mcolors\n",
    "from matplotlib.patches import Patch\n",
    "import matplotlib.patches as mpatches\n",
    "from matplotlib.font_manager import FontProperties\n",
    "\n",
    "import mapclassify\n",
    "\n",
    "from rapidfuzz import process, fuzz\n",
    "\n",
    "from shapely.geometry import Point\n",
    "\n",
    "import rasterio\n",
    "from rasterio.plot import show\n",
    "from rasterio.mask import mask\n",
    "from rasterstats import zonal_stats"
   ]
  },
  {
   "cell_type": "code",
   "execution_count": 19,
   "id": "8e224ffb",
   "metadata": {},
   "outputs": [],
   "source": [
    "# Set base project path\n",
    "base_path = Path(\"C:/Users/juami/Dropbox/RAships/2-Folklore-Nathan-Project/EA-Maps-Nathan-project/Measures_work\")\n",
    "\n",
    "# Set file paths\n",
    "poscol_path = base_path / \"data\" / \"raw\" / \"ethnologue\" / \"ancestral_characteristics_database_language_level\" / \"Ethnologue_16_shapefile\" / \"langa_no_overlap_biggest_clean.shp\"\n",
    "\n",
    "data_path = base_path / \"data\" / \"interim\"\n",
    "maps_path = base_path / \"maps\" / \"raw\"\n",
    "ghg_path = maps_path / \"CO2\" / \"EDGAR_2025_GHG_CO2_2000_TOTALS_flx.tif\""
   ]
  },
  {
   "cell_type": "code",
   "execution_count": 20,
   "id": "a71701d7",
   "metadata": {},
   "outputs": [],
   "source": [
    "# Read the shapefiles and CSV files\n",
    "ethnologue = gpd.read_file(poscol_path)\n",
    "ethnologue_proj = ethnologue.to_crs(epsg=6933)\n",
    "\n",
    "ghg = rasterio.open(ghg_path)\n",
    "ethnologue = ethnologue.to_crs(ghg.crs)"
   ]
  },
  {
   "cell_type": "code",
   "execution_count": 21,
   "id": "d975ab29",
   "metadata": {},
   "outputs": [
    {
     "name": "stdout",
     "output_type": "stream",
     "text": [
      "GHG data shape: (1, 1800, 3600)\n",
      "GHG data resolution: (0.1, -0.1)\n",
      "GHG data CRS: EPSG:4326\n",
      "Lat resolution: 0.1°, Lon resolution: 0.1°\n"
     ]
    }
   ],
   "source": [
    "# Read the GHG raster data\n",
    "ghg_data = rioxarray.open_rasterio(ghg_path)\n",
    "print(f\"GHG data shape: {ghg_data.shape}\")\n",
    "print(f\"GHG data resolution: {ghg_data.rio.resolution()}\")\n",
    "print(f\"GHG data CRS: {ghg_data.rio.crs}\")\n",
    "\n",
    "# Calculate pixel area in m² for 0.1 degree resolution\n",
    "# At equator: 1 degree ≈ 111,320 meters\n",
    "# 0.1 degree ≈ 11,132 meters\n",
    "# But we need to account for latitude variation\n",
    "import numpy as np\n",
    "\n",
    "# Get latitude values for each pixel\n",
    "lats = ghg_data.y.values\n",
    "lat_resolution = abs(ghg_data.rio.resolution()[1])  # degrees\n",
    "lon_resolution = abs(ghg_data.rio.resolution()[0])  # degrees\n",
    "\n",
    "print(f\"Lat resolution: {lat_resolution}°, Lon resolution: {lon_resolution}°\")"
   ]
  },
  {
   "cell_type": "code",
   "execution_count": 22,
   "id": "828323fb",
   "metadata": {},
   "outputs": [
    {
     "name": "stdout",
     "output_type": "stream",
     "text": [
      "Pixel areas shape: (1800, 3600)\n",
      "Pixel area range: 107,899 to 123,643,072 m²\n",
      "Pixel area at equator: 123,643,072 m²\n"
     ]
    }
   ],
   "source": [
    "# Calculate pixel area accounting for latitude variation\n",
    "def calculate_pixel_area(lat, lat_res, lon_res):\n",
    "    \"\"\"\n",
    "    Calculate pixel area in m² given latitude and resolution in degrees\n",
    "    \"\"\"\n",
    "    # Earth's radius in meters\n",
    "    R = 6371000\n",
    "    \n",
    "    # Convert degrees to radians\n",
    "    lat_rad = np.radians(lat)\n",
    "    lat_res_rad = np.radians(lat_res)\n",
    "    lon_res_rad = np.radians(lon_res)\n",
    "    \n",
    "    # Area calculation accounting for latitude\n",
    "    # Area = R² * cos(lat) * lat_res * lon_res (in radians)\n",
    "    area_m2 = R**2 * np.cos(lat_rad) * lat_res_rad * lon_res_rad\n",
    "    \n",
    "    return area_m2\n",
    "\n",
    "# Create pixel area array for each latitude\n",
    "pixel_areas = np.zeros_like(ghg_data[0].values)\n",
    "for i, lat in enumerate(lats):\n",
    "    pixel_area = calculate_pixel_area(lat, lat_resolution, lon_resolution)\n",
    "    pixel_areas[i, :] = pixel_area\n",
    "\n",
    "print(f\"Pixel areas shape: {pixel_areas.shape}\")\n",
    "print(f\"Pixel area range: {pixel_areas.min():,.0f} to {pixel_areas.max():,.0f} m²\")\n",
    "print(f\"Pixel area at equator: {pixel_areas[pixel_areas.shape[0]//2, 0]:,.0f} m²\")"
   ]
  },
  {
   "cell_type": "code",
   "execution_count": 23,
   "id": "df2f5922",
   "metadata": {},
   "outputs": [
    {
     "name": "stdout",
     "output_type": "stream",
     "text": [
      "GHG flux range (kg/m²/s): 0.00e+00 to 3.51e-05\n",
      "GHG flux range (tonnes/m²/year): 0.00e+00 to 1.11e+00\n",
      "Total GHG per pixel range (tonnes/year): 0.00e+00 to 8.93e+07\n",
      "Total global GHG (tonnes/year): 25,642,084,352\n"
     ]
    }
   ],
   "source": [
    "# Convert GHG fluxes from kg/m²/s to tonnes/year for each pixel\n",
    "seconds_per_year = 365.25 * 24 * 3600\n",
    "kg_to_tonnes = 0.001\n",
    "\n",
    "# Get GHG flux data (kg/m²/s)\n",
    "ghg_flux = ghg_data[0].values  # First (and likely only) band\n",
    "\n",
    "# Convert to tonnes/m²/year\n",
    "ghg_flux_tonnes_m2_year = ghg_flux * seconds_per_year * kg_to_tonnes\n",
    "\n",
    "# Calculate total emissions per pixel (tonnes/year)\n",
    "ghg_total_tonnes_year = ghg_flux_tonnes_m2_year * pixel_areas\n",
    "\n",
    "print(f\"GHG flux range (kg/m²/s): {np.nanmin(ghg_flux):.2e} to {np.nanmax(ghg_flux):.2e}\")\n",
    "print(f\"GHG flux range (tonnes/m²/year): {np.nanmin(ghg_flux_tonnes_m2_year):.2e} to {np.nanmax(ghg_flux_tonnes_m2_year):.2e}\")\n",
    "print(f\"Total GHG per pixel range (tonnes/year): {np.nanmin(ghg_total_tonnes_year):.2e} to {np.nanmax(ghg_total_tonnes_year):.2e}\")\n",
    "print(f\"Total global GHG (tonnes/year): {np.nansum(ghg_total_tonnes_year):,.0f}\")\n",
    "\n",
    "# Create new xarray with converted data\n",
    "ghg_converted = ghg_data.copy()\n",
    "ghg_converted[0] = ghg_total_tonnes_year\n",
    "ghg_converted.attrs['units'] = 'tonnes/year'\n",
    "ghg_converted.attrs['long_name'] = 'CO2 emissions per pixel'"
   ]
  },
  {
   "cell_type": "code",
   "execution_count": 24,
   "id": "bdaf0f51",
   "metadata": {},
   "outputs": [],
   "source": [
    "# Save the converted raster temporarily for zonal stats\n",
    "temp_raster_path = maps_path / \"CO2\" / \"temp_ghg_tonnes_per_year.tif\"\n",
    "ghg_converted.rio.to_raster(temp_raster_path)\n"
   ]
  },
  {
   "cell_type": "code",
   "execution_count": 25,
   "id": "864bc6b0",
   "metadata": {},
   "outputs": [
    {
     "name": "stdout",
     "output_type": "stream",
     "text": [
      "            ghg\n",
      "0  1.386498e+09\n",
      "1  5.349706e+09\n",
      "2  2.946257e+08\n",
      "3  3.072212e+08\n",
      "4  1.984995e+09\n"
     ]
    }
   ],
   "source": [
    "\n",
    "# Perform zonal statistics with the converted data (sum to get total emissions per polygon)\n",
    "stats = zonal_stats(ethnologue, temp_raster_path, stats=[\"sum\"], geojson_out=True)\n",
    "\n",
    "# Create GeoDataFrame\n",
    "ethnologue_ghg = gpd.GeoDataFrame.from_features(stats)\n",
    "ethnologue_ghg.rename(columns={\"sum\": \"ghg\"}, inplace=True)\n",
    "\n",
    "print(ethnologue_ghg[['ghg']].head())"
   ]
  },
  {
   "cell_type": "code",
   "execution_count": 26,
   "id": "268c33a6",
   "metadata": {},
   "outputs": [
    {
     "name": "stdout",
     "output_type": "stream",
     "text": [
      "Exported ethnologue_ghg.csv\n"
     ]
    }
   ],
   "source": [
    "# Keep only relevant columns\n",
    "ethnologue_ghg = ethnologue_ghg[[\"ID\",\"ghg\"]]\n",
    "\n",
    "# Export to CSV\n",
    "ethnologue_ghg.to_csv(maps_path / \"CO2\" / \"ethnologue_ghg.csv\", index=False)\n",
    "\n",
    "print(f\"Exported ethnologue_ghg.csv\")"
   ]
  }
 ],
 "metadata": {
  "kernelspec": {
   "display_name": "geo_clean",
   "language": "python",
   "name": "python3"
  },
  "language_info": {
   "codemirror_mode": {
    "name": "ipython",
    "version": 3
   },
   "file_extension": ".py",
   "mimetype": "text/x-python",
   "name": "python",
   "nbconvert_exporter": "python",
   "pygments_lexer": "ipython3",
   "version": "3.11.14"
  }
 },
 "nbformat": 4,
 "nbformat_minor": 5
}
