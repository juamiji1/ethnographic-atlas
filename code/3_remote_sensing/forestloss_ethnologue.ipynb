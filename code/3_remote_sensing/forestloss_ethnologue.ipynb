{
 "cells": [
  {
   "cell_type": "markdown",
   "id": "a55c1a87",
   "metadata": {},
   "source": [
    "# Calculating Forest Loss at the Ethnologue Polygon Level"
   ]
  },
  {
   "cell_type": "code",
   "execution_count": null,
   "id": "aae13ad4",
   "metadata": {},
   "outputs": [],
   "source": [
    "import os\n",
    "import ee\n",
    "import geemap \n",
    "import pandas as pd\n",
    "\n",
    "#ee.Authenticate()\n",
    "ee.Initialize()"
   ]
  },
  {
   "cell_type": "code",
   "execution_count": null,
   "id": "b7f22a1b",
   "metadata": {},
   "outputs": [],
   "source": [
    "# Define region to view (Peru/Brazil Amazon)\n",
    "world_bbox = ee.Geometry.BBox(-180, -85, 180, 85)\n",
    "\n",
    "# Load the treecover2000 band\n",
    "treecover = ee.Image(\"UMD/hansen/global_forest_change_2024_v1_12\").select(\"treecover2000\")\n",
    "\n",
    "# Visualization settings\n",
    "vis_params = {\n",
    "    'min': 0,\n",
    "    'max': 100,\n",
    "    'palette': ['ffffff', '006400']\n",
    "}\n",
    "\n",
    "# Create map\n",
    "Map = geemap.Map(center=[-7.5, -72.5], zoom=6)\n",
    "Map.addLayer(treecover.clip(region), vis_params, 'Treecover 2000')\n",
    "Map.addLayer(world_bbox, {}, 'Region')\n",
    "Map"
   ]
  },
  {
   "cell_type": "code",
   "execution_count": null,
   "id": "2ade1ae8",
   "metadata": {},
   "outputs": [],
   "source": [
    "# Export to Google Drive\n",
    "task = ee.batch.Export.image.toDrive(\n",
    "    image=treecover,\n",
    "    description='treecover2000_100m_30m',\n",
    "    folder='GEE_exports',\n",
    "    fileNamePrefix='treecover2000_100m_30m',\n",
    "    region=world_bbox,\n",
    "    scale=100,\n",
    "    maxPixels=1e13\n",
    ")\n",
    "\n",
    "task.start()"
   ]
  },
  {
   "cell_type": "code",
   "execution_count": null,
   "id": "085a0469",
   "metadata": {},
   "outputs": [],
   "source": [
    "# Load the treecover2000 band\n",
    "treeloss = ee.Image(\"UMD/hansen/global_forest_change_2024_v1_12\").select(\"loss\")\n",
    "\n",
    "# Export to Google Drive\n",
    "task = ee.batch.Export.image.toDrive(\n",
    "    image=treeloss,\n",
    "    description='treeloss_100m_30m',\n",
    "    folder='GEE_exports',\n",
    "    fileNamePrefix='treeloss_100m_30m',\n",
    "    region=world_bbox,\n",
    "    scale=100,\n",
    "    maxPixels=1e13\n",
    ")\n",
    "\n",
    "task.start()"
   ]
  },
  {
   "cell_type": "markdown",
   "id": "ff47a138",
   "metadata": {},
   "source": [
    "### NOTE: see the progress of exports at [GEE Task Manager](https://code.earthengine.google.com/tasks)"
   ]
  },
  {
   "cell_type": "code",
   "execution_count": 35,
   "id": "01b30bbb",
   "metadata": {},
   "outputs": [
    {
     "data": {
      "text/html": [
       "\n",
       "            <style>\n",
       "                .geemap-dark {\n",
       "                    --jp-widgets-color: white;\n",
       "                    --jp-widgets-label-color: white;\n",
       "                    --jp-ui-font-color1: white;\n",
       "                    --jp-layout-color2: #454545;\n",
       "                    background-color: #383838;\n",
       "                }\n",
       "\n",
       "                .geemap-dark .jupyter-button {\n",
       "                    --jp-layout-color3: #383838;\n",
       "                }\n",
       "\n",
       "                .geemap-colab {\n",
       "                    background-color: var(--colab-primary-surface-color, white);\n",
       "                }\n",
       "\n",
       "                .geemap-colab .jupyter-button {\n",
       "                    --jp-layout-color3: var(--colab-primary-surface-color, white);\n",
       "                }\n",
       "            </style>\n",
       "            "
      ],
      "text/plain": [
       "<IPython.core.display.HTML object>"
      ]
     },
     "metadata": {},
     "output_type": "display_data"
    }
   ],
   "source": [
    "import os\n",
    "from pathlib import Path\n",
    "\n",
    "import pandas as pd\n",
    "import numpy as np\n",
    "import geopandas as gpd\n",
    "\n",
    "import matplotlib.pyplot as plt\n",
    "import matplotlib.colors as mcolors\n",
    "from matplotlib.patches import Patch\n",
    "import matplotlib.patches as mpatches\n",
    "from matplotlib.font_manager import FontProperties\n",
    "\n",
    "import mapclassify\n",
    "\n",
    "from rapidfuzz import process, fuzz\n",
    "\n",
    "from shapely.geometry import Point\n",
    "\n",
    "import rasterio\n",
    "from rasterio.plot import show\n",
    "from rasterio.mask import mask\n",
    "from rasterstats import zonal_stats\n",
    "from glob import glob\n",
    "from rasterio.merge import merge\n",
    "from rasterio.enums import Resampling"
   ]
  },
  {
   "cell_type": "code",
   "execution_count": 33,
   "id": "cbf9f85a",
   "metadata": {},
   "outputs": [
    {
     "data": {
      "text/html": [
       "\n",
       "            <style>\n",
       "                .geemap-dark {\n",
       "                    --jp-widgets-color: white;\n",
       "                    --jp-widgets-label-color: white;\n",
       "                    --jp-ui-font-color1: white;\n",
       "                    --jp-layout-color2: #454545;\n",
       "                    background-color: #383838;\n",
       "                }\n",
       "\n",
       "                .geemap-dark .jupyter-button {\n",
       "                    --jp-layout-color3: #383838;\n",
       "                }\n",
       "\n",
       "                .geemap-colab {\n",
       "                    background-color: var(--colab-primary-surface-color, white);\n",
       "                }\n",
       "\n",
       "                .geemap-colab .jupyter-button {\n",
       "                    --jp-layout-color3: var(--colab-primary-surface-color, white);\n",
       "                }\n",
       "            </style>\n",
       "            "
      ],
      "text/plain": [
       "<IPython.core.display.HTML object>"
      ]
     },
     "metadata": {},
     "output_type": "display_data"
    }
   ],
   "source": [
    "# Set base project path\n",
    "base_path = Path(\"C:/Users/juami/Dropbox/RAships/2-Folklore-Nathan-Project/EA-Maps-Nathan-project/Measures_work\")\n",
    "\n",
    "# Set file paths\n",
    "poscol_path = base_path / \"data\" / \"raw\" / \"ethnologue\" / \"ancestral_characteristics_database_language_level\" / \"Ethnologue_16_shapefile\" / \"langa_no_overlap_biggest_clean.shp\"\n",
    "\n",
    "data_path = base_path / \"data\" / \"interim\"\n",
    "maps_path = base_path / \"maps\" / \"raw\"\n",
    "hansen_path = base_path / \"maps\" / \"raw\" / \"Hansen_forest\"\n",
    "\n",
    "export_path = base_path / \"maps\" / \"interim\" / \"ethnologue_parts\""
   ]
  },
  {
   "cell_type": "code",
   "execution_count": 28,
   "id": "24378017",
   "metadata": {},
   "outputs": [
    {
     "data": {
      "text/html": [
       "\n",
       "            <style>\n",
       "                .geemap-dark {\n",
       "                    --jp-widgets-color: white;\n",
       "                    --jp-widgets-label-color: white;\n",
       "                    --jp-ui-font-color1: white;\n",
       "                    --jp-layout-color2: #454545;\n",
       "                    background-color: #383838;\n",
       "                }\n",
       "\n",
       "                .geemap-dark .jupyter-button {\n",
       "                    --jp-layout-color3: #383838;\n",
       "                }\n",
       "\n",
       "                .geemap-colab {\n",
       "                    background-color: var(--colab-primary-surface-color, white);\n",
       "                }\n",
       "\n",
       "                .geemap-colab .jupyter-button {\n",
       "                    --jp-layout-color3: var(--colab-primary-surface-color, white);\n",
       "                }\n",
       "            </style>\n",
       "            "
      ],
      "text/plain": [
       "<IPython.core.display.HTML object>"
      ]
     },
     "metadata": {},
     "output_type": "display_data"
    },
    {
     "name": "stdout",
     "output_type": "stream",
     "text": [
      "Number of features: 7087\n"
     ]
    }
   ],
   "source": [
    "# Read the shapefiles and CSV files\n",
    "ethnologue = gpd.read_file(poscol_path)\n",
    "\n",
    "# Keep only relevant columns\n",
    "ethnologue = ethnologue[[\"ID\", \"geometry\"]]\n",
    "\n",
    "print(f\"Number of features: {len(ethnologue)}\")"
   ]
  },
  {
   "cell_type": "code",
   "execution_count": null,
   "id": "a2db54b4",
   "metadata": {},
   "outputs": [
    {
     "data": {
      "text/html": [
       "\n",
       "            <style>\n",
       "                .geemap-dark {\n",
       "                    --jp-widgets-color: white;\n",
       "                    --jp-widgets-label-color: white;\n",
       "                    --jp-ui-font-color1: white;\n",
       "                    --jp-layout-color2: #454545;\n",
       "                    background-color: #383838;\n",
       "                }\n",
       "\n",
       "                .geemap-dark .jupyter-button {\n",
       "                    --jp-layout-color3: #383838;\n",
       "                }\n",
       "\n",
       "                .geemap-colab {\n",
       "                    background-color: var(--colab-primary-surface-color, white);\n",
       "                }\n",
       "\n",
       "                .geemap-colab .jupyter-button {\n",
       "                    --jp-layout-color3: var(--colab-primary-surface-color, white);\n",
       "                }\n",
       "            </style>\n",
       "            "
      ],
      "text/plain": [
       "<IPython.core.display.HTML object>"
      ]
     },
     "metadata": {},
     "output_type": "display_data"
    },
    {
     "name": "stdout",
     "output_type": "stream",
     "text": [
      "Found raster files: ['C:\\\\Users\\\\juami\\\\Dropbox\\\\RAships\\\\2-Folklore-Nathan-Project\\\\EA-Maps-Nathan-project\\\\Measures_work\\\\maps\\\\raw\\\\Hansen_forest\\\\treecover2000_100m_30m-0000000000-0000000000.tif', 'C:\\\\Users\\\\juami\\\\Dropbox\\\\RAships\\\\2-Folklore-Nathan-Project\\\\EA-Maps-Nathan-project\\\\Measures_work\\\\maps\\\\raw\\\\Hansen_forest\\\\treecover2000_100m_30m-0000000000-0000065536.tif', 'C:\\\\Users\\\\juami\\\\Dropbox\\\\RAships\\\\2-Folklore-Nathan-Project\\\\EA-Maps-Nathan-project\\\\Measures_work\\\\maps\\\\raw\\\\Hansen_forest\\\\treecover2000_100m_30m-0000000000-0000131072.tif', 'C:\\\\Users\\\\juami\\\\Dropbox\\\\RAships\\\\2-Folklore-Nathan-Project\\\\EA-Maps-Nathan-project\\\\Measures_work\\\\maps\\\\raw\\\\Hansen_forest\\\\treecover2000_100m_30m-0000000000-0000196608.tif', 'C:\\\\Users\\\\juami\\\\Dropbox\\\\RAships\\\\2-Folklore-Nathan-Project\\\\EA-Maps-Nathan-project\\\\Measures_work\\\\maps\\\\raw\\\\Hansen_forest\\\\treecover2000_100m_30m-0000000000-0000262144.tif', 'C:\\\\Users\\\\juami\\\\Dropbox\\\\RAships\\\\2-Folklore-Nathan-Project\\\\EA-Maps-Nathan-project\\\\Measures_work\\\\maps\\\\raw\\\\Hansen_forest\\\\treecover2000_100m_30m-0000000000-0000327680.tif', 'C:\\\\Users\\\\juami\\\\Dropbox\\\\RAships\\\\2-Folklore-Nathan-Project\\\\EA-Maps-Nathan-project\\\\Measures_work\\\\maps\\\\raw\\\\Hansen_forest\\\\treecover2000_100m_30m-0000000000-0000393216.tif', 'C:\\\\Users\\\\juami\\\\Dropbox\\\\RAships\\\\2-Folklore-Nathan-Project\\\\EA-Maps-Nathan-project\\\\Measures_work\\\\maps\\\\raw\\\\Hansen_forest\\\\treecover2000_100m_30m-0000065536-0000000000.tif', 'C:\\\\Users\\\\juami\\\\Dropbox\\\\RAships\\\\2-Folklore-Nathan-Project\\\\EA-Maps-Nathan-project\\\\Measures_work\\\\maps\\\\raw\\\\Hansen_forest\\\\treecover2000_100m_30m-0000065536-0000065536.tif', 'C:\\\\Users\\\\juami\\\\Dropbox\\\\RAships\\\\2-Folklore-Nathan-Project\\\\EA-Maps-Nathan-project\\\\Measures_work\\\\maps\\\\raw\\\\Hansen_forest\\\\treecover2000_100m_30m-0000065536-0000131072.tif', 'C:\\\\Users\\\\juami\\\\Dropbox\\\\RAships\\\\2-Folklore-Nathan-Project\\\\EA-Maps-Nathan-project\\\\Measures_work\\\\maps\\\\raw\\\\Hansen_forest\\\\treecover2000_100m_30m-0000065536-0000196608.tif', 'C:\\\\Users\\\\juami\\\\Dropbox\\\\RAships\\\\2-Folklore-Nathan-Project\\\\EA-Maps-Nathan-project\\\\Measures_work\\\\maps\\\\raw\\\\Hansen_forest\\\\treecover2000_100m_30m-0000065536-0000262144.tif', 'C:\\\\Users\\\\juami\\\\Dropbox\\\\RAships\\\\2-Folklore-Nathan-Project\\\\EA-Maps-Nathan-project\\\\Measures_work\\\\maps\\\\raw\\\\Hansen_forest\\\\treecover2000_100m_30m-0000065536-0000327680.tif', 'C:\\\\Users\\\\juami\\\\Dropbox\\\\RAships\\\\2-Folklore-Nathan-Project\\\\EA-Maps-Nathan-project\\\\Measures_work\\\\maps\\\\raw\\\\Hansen_forest\\\\treecover2000_100m_30m-0000065536-0000393216.tif', 'C:\\\\Users\\\\juami\\\\Dropbox\\\\RAships\\\\2-Folklore-Nathan-Project\\\\EA-Maps-Nathan-project\\\\Measures_work\\\\maps\\\\raw\\\\Hansen_forest\\\\treecover2000_100m_30m-0000131072-0000000000.tif', 'C:\\\\Users\\\\juami\\\\Dropbox\\\\RAships\\\\2-Folklore-Nathan-Project\\\\EA-Maps-Nathan-project\\\\Measures_work\\\\maps\\\\raw\\\\Hansen_forest\\\\treecover2000_100m_30m-0000131072-0000065536.tif', 'C:\\\\Users\\\\juami\\\\Dropbox\\\\RAships\\\\2-Folklore-Nathan-Project\\\\EA-Maps-Nathan-project\\\\Measures_work\\\\maps\\\\raw\\\\Hansen_forest\\\\treecover2000_100m_30m-0000131072-0000131072.tif', 'C:\\\\Users\\\\juami\\\\Dropbox\\\\RAships\\\\2-Folklore-Nathan-Project\\\\EA-Maps-Nathan-project\\\\Measures_work\\\\maps\\\\raw\\\\Hansen_forest\\\\treecover2000_100m_30m-0000131072-0000196608.tif', 'C:\\\\Users\\\\juami\\\\Dropbox\\\\RAships\\\\2-Folklore-Nathan-Project\\\\EA-Maps-Nathan-project\\\\Measures_work\\\\maps\\\\raw\\\\Hansen_forest\\\\treecover2000_100m_30m-0000131072-0000262144.tif', 'C:\\\\Users\\\\juami\\\\Dropbox\\\\RAships\\\\2-Folklore-Nathan-Project\\\\EA-Maps-Nathan-project\\\\Measures_work\\\\maps\\\\raw\\\\Hansen_forest\\\\treecover2000_100m_30m-0000131072-0000327680.tif', 'C:\\\\Users\\\\juami\\\\Dropbox\\\\RAships\\\\2-Folklore-Nathan-Project\\\\EA-Maps-Nathan-project\\\\Measures_work\\\\maps\\\\raw\\\\Hansen_forest\\\\treecover2000_100m_30m-0000131072-0000393216.tif']\n"
     ]
    }
   ],
   "source": [
    "# List all the raster files (assuming they are .tif files)\n",
    "raster_files = glob(str(hansen_path / \"*.tif\"))\n",
    "\n",
    "print(\"Found raster files:\", raster_files)\n",
    "\n",
    "# Read in all the rasters\n",
    "src_files_to_mosaic = [rasterio.open(fp) for fp in raster_files]\n",
    "\n",
    "from rasterio.merge import merge\n",
    "\n",
    "# Set a coarser resolution\n",
    "mosaic, out_trans = merge(\n",
    "    src_files_to_mosaic,\n",
    "    res=(0.01, 0.01),  # Approx ~1km resolution (in degrees)\n",
    "    resampling=Resampling.average  # Can also try Resampling.nearest\n",
    ")"
   ]
  },
  {
   "cell_type": "code",
   "execution_count": null,
   "id": "276cf825",
   "metadata": {},
   "outputs": [],
   "source": [
    "# Show the first band of the mosaic directly\n",
    "fig, ax = plt.subplots(figsize=(10, 10))\n",
    "show(mosaic, transform=out_trans, ax=ax, title=\"Merged Treecover2000 (In-Memory)\")\n",
    "plt.show()"
   ]
  }
 ],
 "metadata": {
  "kernelspec": {
   "display_name": "geo",
   "language": "python",
   "name": "python3"
  },
  "language_info": {
   "codemirror_mode": {
    "name": "ipython",
    "version": 3
   },
   "file_extension": ".py",
   "mimetype": "text/x-python",
   "name": "python",
   "nbconvert_exporter": "python",
   "pygments_lexer": "ipython3",
   "version": "3.9.20"
  }
 },
 "nbformat": 4,
 "nbformat_minor": 5
}
